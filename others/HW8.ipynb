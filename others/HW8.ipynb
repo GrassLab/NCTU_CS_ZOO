{
 "cells": [
  {
   "cell_type": "markdown",
   "metadata": {
    "slideshow": {
     "slide_type": "slide"
    }
   },
   "source": [
    "# HW 8: 自駕車接收命令與指揮 (計算理論 / 系統軟體)\n",
    "\n",
    "2020.11.20"
   ]
  },
  {
   "cell_type": "markdown",
   "metadata": {
    "slideshow": {
     "slide_type": "slide"
    }
   },
   "source": [
    "## Tutorial\n",
    "\n",
    "- [TA placehold]()\n",
    "- [Regular Operations (05:24)](https://www.youtube.com/watch?v=nIp604p0M8M)\n",
    "- TODO: maybe about compiler or language\n",
    "- [Stderr Stdout and Stdin - How to Redirect them - Commands for Linux (05:24)](https://www.youtube.com/watch?v=icuV2CR3Ghg)\n",
    "  - those function almost are same in windows `PowerShell` and mac `Terminal`"
   ]
  },
  {
   "cell_type": "markdown",
   "metadata": {
    "slideshow": {
     "slide_type": "slide"
    }
   },
   "source": [
    "## Objective\n",
    "\n",
    "- Learn language grammar to create own language which handled by specific application\n",
    "- Understand regular language and context free language\n",
    "- Learn useful command-line skill to leverage various system software\n",
    "- Understand how application leverage system software"
   ]
  },
  {
   "cell_type": "markdown",
   "metadata": {
    "slideshow": {
     "slide_type": "slide"
    }
   },
   "source": [
    "## Problem\n",
    "\n",
    "我們已經能夠將自己腦中的想法在小鴨車用 `Python` 去實作，諸如 `前進`、`亮燈`、`拍照`等  \n",
    "但每次都要花大量時間使用 `Python` 去做程式設計，是否有更簡單的語言只要寫 `前進`、`亮燈` 等指令，就能實現腦中的想法呢？  \n",
    "而且簡單的語言也能讓小鴨車初學者更容易上手\n",
    "\n",
    "同時，在秉持著不重複造輪子的精神下  \n",
    "讓支援該語言的直譯器透過系統軟體擴充更多功能，並與其他系統上軟體進行合作\n"
   ]
  },
  {
   "cell_type": "markdown",
   "metadata": {
    "slideshow": {
     "slide_type": "slide"
    }
   },
   "source": [
    "## Requirement\n",
    "\n",
    "實作出小鴨車語 `DuckieDuckie1` 直譯器，並可以接受標準輸入或純文本檔案作為程式碼來源\n",
    "\n",
    "- 小鴨車語 `DuckieDuckie1` 直譯器\n",
    "  - 利用正則運算 (Regular Operation) 表達語法  \n",
    "  - 透過範例與敘述表達語義  \n",
    "  - **且目前 `DuckieDuckie1` 只支援單句表達式**\n",
    "\n",
    "- 標準輸入或純文本檔案\n",
    "  - 只實作從標準輸入讀入 `DuckieDuckie1` 程式碼\n",
    "  - 利用 輸入重定向 來支援純文本檔案"
   ]
  },
  {
   "cell_type": "markdown",
   "metadata": {
    "slideshow": {
     "slide_type": "subslide"
    }
   },
   "source": [
    "### 小鴨車語 `DuckieDuckie1`\n",
    "\n",
    "#### 語法 Syntax\n",
    "\n",
    "小鴨車語 `DuckieDuckie1` 的正則語法定義為\n",
    "\n",
    "$$\n",
    "G = \\{ \\sum, N, S, P \\} \\\\\n",
    "G \\space \\text{is grammar} \\\\\n",
    "\\sum \\space \\text{is alphabet} \\\\\n",
    "N \\space \\text{is nonterminal symbol} \\\\\n",
    "S \\space \\text{is start symbol} \\\\\n",
    "P \\space \\text{is production rules}\n",
    "$$\n",
    "\n",
    "- `alphabet` 字母集為 `a-z` 與 `0-9` ，亦指終端符號\n",
    "- `nonterminal symbol` 非終端符號有 `CMD`, `DIGIT`, `SCALAR`, `UNIT`, `DUCKIEDUCKIE1`\n",
    "- `start symbol` 開始符號為 `DUCKIEDUCKIE1`\n",
    "- `production rules` 產生規則較為複雜，其中使用到幾個符號\n",
    "  - 使用三個正則運算： 用 `U` 表示 Union 聯集、用 `.` 表示 Concat 連接、用 `*` 表示 Kleene Star 星號  \n",
    "  - 使用單引號 `'` 表達字母集中的終端符號  \n",
    "  - 沒有單引號也非正則運算表達非終端符號\n",
    "  - 使用括號 `()` 表達優先順序  \n",
    "\n",
    "```\n",
    "CMD = 'forward' U 'backward'\n",
    "DIGIT = '0' U '1' U '2' U '3' U '4' U '5' U '6' U '7' U '8' U '9'\n",
    "SCALAR = DIGIT . DIGIT*\n",
    "UNIT = 'ms' U 's'\n",
    "\n",
    "DUCKIEDUCKIE1 = CMD . ' ' . ' '* . SCALAR . UNIT . ';'\n",
    "```\n",
    "\n",
    "其對應的正則表達式 Regular Expression 為\n",
    "\n",
    "```\n",
    "(?P<CMD>forward|backward|left|right)[ ]+(?P<SCALAR>\\d+)(?P<UNIT>ms|s);\n",
    "```\n"
   ]
  },
  {
   "source": [
    "#### 語義 Semantics\n",
    "\n",
    "`DuckieDuckie1` 會被分成三個字串，分別是 `CMD`、`SCALAR`、`UNIT`\n",
    "\n",
    "- `CMD` 對應到小鴨車應該要有的行為\n",
    "- `SCALAR` 對應到 `CMD` 的參數，與 `UNIT` 配合表示不同量級的參數\n",
    "- `UNIT` 對應到 `SCALAR` 的單位\n",
    "\n",
    "其對應語義為：控制小鴨車進行 `CMD` 行為，持續時間為 `SCALAR`，時間單位為 `UNIT`\n",
    "\n",
    "舉例而言，當 `CMD='forward', SCALAR='1', UNIT='s'`  \n",
    "對應語義即為，小鴨車前進一秒\n"
   ],
   "cell_type": "markdown",
   "metadata": {}
  },
  {
   "cell_type": "markdown",
   "metadata": {
    "slideshow": {
     "slide_type": "subslide"
    }
   },
   "source": [
    "### Steps\n",
    "\n",
    "- 從標準輸入 `STDIN` 取得小鴨車語 `DuckieDuckie1`\n",
    "  - 可以參考 `如何從標準輸入讀取直到 EOF (檔案結尾)`\n",
    "- 利用輸入重定向，更輕鬆的餵入小鴨車語 `DuckieDuckie1`\n",
    "  > (windows 請使用 `powershell`，mac 請使用 `terminal`，linux 請使用 `sh` 或 `bash` 或 `zsh`)\n",
    "  \n",
    "  - 當前一項完成即可透過輸入重定向，將標準 `STDIN` 重新定向到檔案\n",
    "  \n",
    "- 使用 正則表達式 剖析語言，辨識是否符合語法\n",
    "  - 遇到不符合請結束並提示語法錯誤有錯\n",
    "  - 可以參考 `如何使用正則語法剖析，並取得剖析出的結果`\n",
    "- 透過剖析後的結果，執行對應的語義"
   ]
  },
  {
   "source": [
    "### Example\n",
    "\n",
    "小鴨車語 `DuckieDuckie1` 的使用範例與行為\n",
    "\n",
    "有一個檔案 `main.duckie`\n",
    "```duckieduckie\n",
    "forward 1500ms;\n",
    "```\n",
    "\n",
    "透過命令列 `python duckieduckie1.py < main.duckie` 使用輸入重定向\n",
    "> 但透過 `SSH` 連入小鴨車的話，已經是 `bash` 所以可以直接使用輸入重定向\n",
    "\n",
    "預期會看到小鴨車的行為是：\n",
    "\n",
    "```\n",
    "前進 1500 毫秒，最後停止\n",
    "```\n"
   ],
   "cell_type": "markdown",
   "metadata": {}
  },
  {
   "cell_type": "markdown",
   "metadata": {
    "slideshow": {
     "slide_type": "slide"
    }
   },
   "source": [
    "## Notice\n",
    "\n",
    "- 因需要使用到 `duckiebot_cs_zoo/libs` 目錄下的函式庫，請將程式碼放置於 `duckiebot_cs_zoo` 目錄下\n",
    "- deadline: 2020.11.27 before class"
   ]
  },
  {
   "cell_type": "markdown",
   "metadata": {
    "slideshow": {
     "slide_type": "slide"
    }
   },
   "source": [
    "## Reference\n",
    "\n",
    "- [python3.6 官方 builtin `input` 參考文件](https://docs.python.org/3.6/library/functions.html#input)\n",
    "- [python3.6 官方 re 參考文件](https://docs.python.org/3.6/library/re.html)"
   ]
  },
  {
   "source": [
    "### 如何從標準輸入讀取直到 EOF (檔案結尾)\n",
    "\n",
    "下列 `cat.py` 程式碼有部分 `cat` 指令的效果，同時展示如何處理 EOF"
   ],
   "cell_type": "markdown",
   "metadata": {}
  },
  {
   "cell_type": "code",
   "execution_count": 1,
   "metadata": {},
   "outputs": [
    {
     "output_type": "stream",
     "name": "stdout",
     "text": [
      "Overwriting ./cat.py\n"
     ]
    }
   ],
   "source": [
    "%%writefile ./cat.py\n",
    "# use to save all input text\n",
    "whole_input: str = \"\"\n",
    "while True:\n",
    "    try:\n",
    "        # wait STDIN until met newline or EOF\n",
    "        line: str = input('')\n",
    "        # because input will consume newline '\\n'\n",
    "        whole_input += line + '\\n'\n",
    "    # when EOFError happend then exit loop\n",
    "    except EOFError:\n",
    "        break\n",
    "\n",
    "print(whole_input, end='')"
   ]
  },
  {
   "cell_type": "code",
   "execution_count": 2,
   "metadata": {},
   "outputs": [
    {
     "output_type": "stream",
     "name": "stdout",
     "text": [
      "Overwriting ./main.duckie\n"
     ]
    }
   ],
   "source": [
    "%%writefile ./main.duckie\n",
    "forward 1500ms;"
   ]
  },
  {
   "cell_type": "code",
   "execution_count": 3,
   "metadata": {},
   "outputs": [
    {
     "output_type": "stream",
     "name": "stdout",
     "text": [
      "forward 1500ms;\n"
     ]
    }
   ],
   "source": [
    "! $sys.executable ./cat.py < ./main.duckie\n",
    "# or python ./cat.py < ./main.duckie"
   ]
  },
  {
   "source": [
    "### 如何使用正則語法剖析，並取得剖析出的結果"
   ],
   "cell_type": "markdown",
   "metadata": {}
  },
  {
   "cell_type": "code",
   "execution_count": 4,
   "metadata": {},
   "outputs": [
    {
     "output_type": "stream",
     "name": "stdout",
     "text": [
      "I am duckiebot\ndo forward for 1500 times in ms unit.\nwrong syntax\n"
     ]
    }
   ],
   "source": [
    "import re\n",
    "\n",
    "# create parser through regular expression (grammar)\n",
    "reparser = re.compile(\"(?P<CMD>forward|backward|left|right)[ ]+(?P<SCALAR>\\d+)(?P<UNIT>ms|s);\")\n",
    "\n",
    "# one line legal `DuckieDuckie1` expression\n",
    "match = reparser.match(\"forward 1500ms;\\n\")\n",
    "assert match is not None\n",
    "\n",
    "# get parsed group `CMD`, `SCALAR`, `UNIT`\n",
    "cmd = match.group('CMD')\n",
    "scalar = match.group('SCALAR')\n",
    "unit = match.group('UNIT')\n",
    "print('I am duckiebot')\n",
    "print('do ' + cmd + ' for ' + scalar + ' times in ' + unit + ' unit.')\n",
    "\n",
    "# one line illegal `DuckieDuckie1` expression\n",
    "match = reparser.match(\"goforward 3000ns;\\n\")\n",
    "assert match is None\n",
    "print('wrong syntax')"
   ]
  }
 ],
 "metadata": {
  "celltoolbar": "Slideshow",
  "kernelspec": {
   "name": "Python 3.8.5 64-bit",
   "display_name": "Python 3.8.5 64-bit",
   "metadata": {
    "interpreter": {
     "hash": "aee8b7b246df8f9039afb4144a1f6fd8d2ca17a180786b69acc140d282b71a49"
    }
   }
  },
  "language_info": {
   "codemirror_mode": {
    "name": "ipython",
    "version": 3
   },
   "file_extension": ".py",
   "mimetype": "text/x-python",
   "name": "python",
   "nbconvert_exporter": "python",
   "pygments_lexer": "ipython3",
   "version": "3.8.5-final"
  },
  "rise": {
   "enable_chalkboard": true,
   "scroll": true,
   "theme": "night"
  }
 },
 "nbformat": 4,
 "nbformat_minor": 4
}