{
 "cells": [
  {
   "cell_type": "markdown",
   "metadata": {
    "slideshow": {
     "slide_type": "slide"
    }
   },
   "source": [
    "# HW 8: 自駕車接收命令與指揮 (計算理論 / 系統軟體)\n",
    "\n",
    "2020.11.20"
   ]
  },
  {
   "cell_type": "markdown",
   "metadata": {
    "slideshow": {
     "slide_type": "slide"
    }
   },
   "source": [
    "## Tutorial\n",
    "\n",
    "- [TA placehold]()\n",
    "- [Regular Operations (05:24)](https://www.youtube.com/watch?v=nIp604p0M8M)\n",
    "- [Stderr Stdout and Stdin - How to Redirect them - Commands for Linux (05:24)](https://www.youtube.com/watch?v=icuV2CR3Ghg)\n",
    "  - those function almost are same in windows `PowerShell` and mac `Terminal`"
   ]
  },
  {
   "cell_type": "markdown",
   "metadata": {
    "slideshow": {
     "slide_type": "slide"
    }
   },
   "source": [
    "## Objective\n",
    "\n",
    "- Learn language grammar to create own language which handled by specific application\n",
    "- Understand regular language and context free language\n",
    "- Learn useful command-line skill to leverage various system software\n",
    "- Understand how application leverage system software"
   ]
  },
  {
   "cell_type": "markdown",
   "metadata": {
    "slideshow": {
     "slide_type": "slide"
    }
   },
   "source": [
    "## Problem\n",
    "\n",
    "我們已經能夠將自己腦中的想法在小鴨車用 `Python` 去實作，諸如 `前進`、`亮燈`、`拍照` 等  \n",
    "但每次都要花大量時間使用 `Python` 去做程式設計，是否有更簡單的語言只要寫 `前進`、`亮燈` 等指令，就能實現腦中的想法呢？  \n",
    "而且簡單的語言也能讓小鴨車初學者更容易上手\n",
    "\n",
    "同時，在秉持著不重複造輪子的精神下  \n",
    "讓支援該語言的直譯器透過系統軟體擴充更多功能，並與其他系統上軟體進行合作\n"
   ]
  },
  {
   "cell_type": "markdown",
   "metadata": {
    "slideshow": {
     "slide_type": "slide"
    }
   },
   "source": [
    "## Requirement\n",
    "\n",
    "實作出小鴨車語 `DuckieDuckie1` 直譯器，並可使用標準輸入或純文本檔案作為程式碼來源\n",
    "\n",
    "- 小鴨車語 `DuckieDuckie1` 直譯器\n",
    "  - 利用正則運算 (Regular Operation) 表達語法  \n",
    "  - 透過範例與敘述表達語義  \n",
    "  - **且目前 `DuckieDuckie1` 只支援單句表達式**\n",
    "\n",
    "- 標準輸入或純文本檔案\n",
    "  - 只實作從標準輸入讀入 `DuckieDuckie1` 程式碼\n",
    "  - 利用 輸入重定向 來支援純文本檔案"
   ]
  },
  {
   "cell_type": "markdown",
   "metadata": {
    "slideshow": {
     "slide_type": "subslide"
    }
   },
   "source": [
    "### 小鴨車語 `DuckieDuckie1`\n",
    "\n",
    "#### 語法 Syntax\n",
    "\n",
    "小鴨車語 `DuckieDuckie1` 的正則語法定義為\n",
    "\n",
    "$$\n",
    "G = \\{ \\sum, N, S, P \\} \\\\\n",
    "G \\space \\text{is grammar} \\\\\n",
    "\\sum \\space \\text{is alphabet} \\\\\n",
    "N \\space \\text{is nonterminal symbol} \\\\\n",
    "S \\space \\text{is start symbol} \\\\\n",
    "P \\space \\text{is production rules}\n",
    "$$\n",
    "\n",
    "- `alphabet` 字母集為 `a-z`, `0-9`, `;` 與 空白 ` ` ，亦指終端符號\n",
    "- `nonterminal symbol` 非終端符號有 `CMD`, `DIGIT`, `SCALAR`, `UNIT`, `DUCKIEDUCKIE1`\n",
    "- `start symbol` 開始符號為 `DUCKIEDUCKIE1`\n",
    "- `production rules` 產生規則較為複雜，其中使用到幾個符號\n",
    "  - 使用三個正則運算：\n",
    "    - 用 $\\cup$ 表示 Union 聯集\n",
    "    - 用 $\\cdot$ 表示 Concat 連接\n",
    "    - 用 $*$ 表示 Kleene Star 星號  \n",
    "  - 使用單引號 $\\text{'}$ 表達字母集中的終端符號  \n",
    "  - 沒有單引號也非正則運算表達非終端符號\n",
    "\n",
    "$$\n",
    "\\begin{align}\n",
    "\\text{CMD} &\\to \\text{'forward'} \\cup \\text{'backward'} \\cup \\text{'left'} \\cup \\text{'right'} \\\\\n",
    "\\text{DIGIT} &\\to \\text{'0'} \\cup '\\text{'1'}' \n",
    "\\cup \\text{'2'} \\cup \\text{'3'} \\cup \\text{'4'} \\cup \\text{'5'}\n",
    "\\cup \\text{'6'} \\cup \\text{'7'} \\cup \\text{'8'} \\cup \\text{'9'} \\\\\n",
    "\\text{SCALAR} &\\to \\text{DIGIT} \\cdot \\text{DIGIT}^* \\\\\n",
    "\\text{UNIT} &\\to \\text{'ms'} \\cup \\text{'s'} \\\\\n",
    "\\\\\n",
    "\\text{DUCKIEDUCKIE1} &\\to \\text{CMD} \\cdot \\text{' '} \\cdot \\text{' '}^* \\cdot \\text{SCALAR} \\cdot \\text{UNIT} \\cdot \\text{';'}\n",
    "\\end{align}\n",
    "$$\n"
   ]
  },
  {
   "source": [
    "#### 語義 Semantics\n",
    "\n",
    "`DuckieDuckie1` 會被分成三個字串，分別是 `CMD`、`SCALAR`、`UNIT`\n",
    "\n",
    "- `CMD` 對應到小鴨車應該要有的行為\n",
    "- `SCALAR` 對應到 `CMD` 的參數，與 `UNIT` 配合表示不同量級的參數\n",
    "- `UNIT` 對應到 `SCALAR` 的單位\n",
    "\n",
    "其對應語義為：控制小鴨車進行 `CMD` 行為，持續時間為 `SCALAR`，時間單位為 `UNIT`\n",
    "\n",
    "舉例而言，當 `CMD='forward', SCALAR='1', UNIT='s'`  \n",
    "對應語義即為，小鴨車前進一秒\n"
   ],
   "cell_type": "markdown",
   "metadata": {}
  },
  {
   "source": [
    "## Test Example\n",
    "\n",
    "小鴨車語 `DuckieDuckie1` 的使用範例與行為\n",
    "\n",
    "有一個檔案 `main.duckie`\n",
    "```duckieduckie\n",
    "forward   1500ms;\n",
    "```\n",
    "\n",
    "透過命令列 `python duckieduckie1.py < main.duckie` 使用輸入重定向\n",
    "> 但在小鴨車環境上的話，已經是 `bash` 所以可以直接使用輸入重定向\n",
    "\n",
    "預期會看到小鴨車的行為是：\n",
    "\n",
    "```\n",
    "前進 1500 毫秒，最後停止\n",
    "```\n"
   ],
   "cell_type": "markdown",
   "metadata": {}
  },
  {
   "cell_type": "markdown",
   "metadata": {
    "slideshow": {
     "slide_type": "subslide"
    }
   },
   "source": [
    "## Steps 實作步驟\n",
    "\n",
    "僅供參考，並非寫出作業的唯一方法  \n",
    "只是其中一種方法"
   ]
  },
  {
   "source": [
    "### Step1: 從標準輸入 `STDIN` 取得小鴨車語 `DuckieDuckie1` 的純文本\n",
    "\n",
    "其實第一個作業大家就都已經會了，就是使用 `input`  \n",
    "關於文件可以看 [python3.6 官方 builtin `input` 參考文件](https://docs.python.org/3.6/library/functions.html#input)\n",
    "\n",
    "但這邊要處理當遇到 `EOF` (end of file) 檔案結尾時，會拋出來的 `EOFError`  \n",
    "要在使用終端輸入時，產生 `EOF` 要根據不同作業系統\n",
    "\n",
    "- windows 使用 `Ctrl + Z` 然後按下 `enter`\n",
    "- mac & linux 使用 `Ctrl + D`\n",
    "\n",
    "下面的程式碼展示了如何處理 `EOF`，同時該程式碼有部分 `cat` 指令的效果"
   ],
   "cell_type": "markdown",
   "metadata": {}
  },
  {
   "cell_type": "code",
   "execution_count": 1,
   "metadata": {},
   "outputs": [
    {
     "output_type": "stream",
     "name": "stdout",
     "text": [
      "Overwriting ./cat.py\n"
     ]
    }
   ],
   "source": [
    "%%writefile ./cat.py\n",
    "# use to save all input text\n",
    "whole_input: str = \"\"\n",
    "while True:\n",
    "    try:\n",
    "        # wait STDIN until met newline or EOF\n",
    "        line: str = input('')\n",
    "        # because input will consume newline '\\n'\n",
    "        whole_input += line + '\\n'\n",
    "    # when EOFError happend then exit loop\n",
    "    except EOFError:\n",
    "        break\n",
    "\n",
    "print(whole_input, end='')"
   ]
  },
  {
   "source": [
    "### Step2: 利用輸入重定向，餵入小鴨車語 `DuckieDuckie1` 程式碼檔案\n",
    "\n",
    "在終端畫面，用 `<` 代表將輸入重定向，使 `STDIN` 被指到一個檔案\n",
    " \n",
    "- windows 可以用 `powershell` 或其他支援的系統軟體\n",
    "- mac 可以用 `terminal` 或其他支援的系統軟體\n",
    "- linux 可以用 `sh` 或 `bash` 或 `zsh` 或其他支援的系統軟體\n",
    "\n",
    "先準備小鴨車語 `DuckieDuckie1` 程式碼檔案"
   ],
   "cell_type": "markdown",
   "metadata": {}
  },
  {
   "cell_type": "code",
   "execution_count": 2,
   "metadata": {},
   "outputs": [
    {
     "output_type": "stream",
     "name": "stdout",
     "text": [
      "Overwriting ./main.duckie\n"
     ]
    }
   ],
   "source": [
    "%%writefile ./main.duckie\n",
    "forward 1500ms;"
   ]
  },
  {
   "source": [
    "剛剛 Step1 的範例程式碼，可以直接產生如 `cat` 的效果"
   ],
   "cell_type": "markdown",
   "metadata": {}
  },
  {
   "cell_type": "code",
   "execution_count": 3,
   "metadata": {},
   "outputs": [
    {
     "output_type": "stream",
     "name": "stdout",
     "text": [
      "forward 1500ms;\n"
     ]
    }
   ],
   "source": [
    "! $sys.executable ./cat.py < ./main.duckie\n",
    "# or python ./cat.py < ./main.duckie"
   ]
  },
  {
   "source": [
    "### Step3: 根據小鴨車語 `DuckieDuckie1` 的正則語法，轉換成對應的 正則表達式 Regular Expression\n",
    "\n",
    "正則語法 可以轉變成對應的 正則表達式 Regular Expression  \n",
    "讓諸多程式語言可以應用該表達式去完成諸如 搜尋、驗證、替換 字串等功能\n",
    "\n",
    "正則表達式在表達三個正則運算如下：\n",
    "\n",
    "- $\\cup$ Union 聯集: 使用 `|`\n",
    "  - $\\text{'ms'} \\cup \\text{'s'}$ 可以用 `ms|s` 表達\n",
    "- $\\cdot$ Concat 連接: 兩個正則表達式直接連接\n",
    "  - $\\text{'a'} \\cup \\text{'b'} \\cdot \\text{'z'}$ 可以用 `(a|b)c` 表達\n",
    "- $*$ Kleene Star 星號: 使用 `*`  \n",
    "  - $\\text{' '}^*$ 可以用 ` *` 或 `[ ]*` 表達\n",
    "\n",
    "可以使用 web 工具 [regex 101](https://regex101.com/)，可確認 正則表達式 正確性與效果"
   ],
   "cell_type": "markdown",
   "metadata": {}
  },
  {
   "source": [
    "### Step4: 使用 正則表達式 Regular Expression 剖析語言，辨識是否符合語法\n",
    "\n",
    "因 `Python` 本身具有 `re` 可以理解 正則表達式 並且解析  \n",
    "所以我們可以直接利用它完成辨識語法的功能，關於文件可以看 [python3.6 官方 re 參考文件](https://docs.python.org/3.6/library/re.html)\n",
    "\n",
    "如果遇到不符合語法的小鴨車語 `DuckieDuckie1` 請結束並提示語法錯誤有錯\n",
    "\n",
    "這邊範例使用的正則表達式是 小鴨車語 `DuckieDuckie1` 的子集，並沒有包含原本語法所表達的  \n"
   ],
   "cell_type": "markdown",
   "metadata": {}
  },
  {
   "cell_type": "code",
   "execution_count": 8,
   "metadata": {},
   "outputs": [],
   "source": [
    "import re\n",
    "\n",
    "# create parser through regular expression (grammar)\n",
    "parser = re.compile(\"(forward|backward)[ ](\\d\\d\\d\\d|\\d\\d\\d)(ms);\")\n",
    "\n",
    "# one line legal `DuckieDuckie1` expression\n",
    "match = parser.match(\"forward 1500ms;\\n\")\n",
    "assert match is not None\n",
    "\n",
    "# one line illegal `DuckieDuckie1` expression\n",
    "match = parser.match(\"goforward 3000ns;\\n\")\n",
    "assert match is None"
   ]
  },
  {
   "source": [
    "### Step5: 透過剖析後的結果，執行對應的語義\n",
    "\n",
    "透過使用 正則表達式 的群組 `group` 功能，我們可以取出它所剖析出來的個別字串  \n",
    "其實當我們使用 `()` 將某段正則表達式包起來後，就會被辨識為是一個群組  \n",
    "我們可以把符合群組的字串給剖析出來\n",
    "\n",
    "並根據小鴨車語 `DuckieDuckie1` 的語義，去控制小鴨車\n",
    "\n",
    "> 因為需要控制小鴨車，會使用到 `libs.car_control`  \n",
    "> 請記得將程式碼放置於 `duckiebot_cs_zoo` 目錄下\n",
    "\n",
    "這邊範例使用上一步 Step4 的範例正則表達式，嘗試取得語義中的 `CMD`, `SCALAR` 與 `UNIT`"
   ],
   "cell_type": "markdown",
   "metadata": {}
  },
  {
   "cell_type": "code",
   "execution_count": 10,
   "metadata": {},
   "outputs": [
    {
     "output_type": "stream",
     "name": "stdout",
     "text": [
      "I am duckiebot\ndo backward 500ms; for backward times in 500 unit.\n"
     ]
    }
   ],
   "source": [
    "# create parser through regular expression (grammar)\n",
    "parser = re.compile(\"(forward|backward)[ ](\\d\\d\\d\\d|\\d\\d\\d)(ms);\")\n",
    "\n",
    "match = parser.match(\"backward 500ms;\\n\")\n",
    "\n",
    "# get parsed group about `CMD`, `SCALAR`, `UNIT`\n",
    "cmd = match.group(0)\n",
    "scalar = match.group(1)\n",
    "unit = match.group(2)\n",
    "print('I am duckiebot')\n",
    "print('do ' + cmd + ' for ' + scalar + ' times in ' + unit + ' unit.')"
   ]
  },
  {
   "source": [
    "### Step6: 應用寫出來的小鴨車語 `DuckieDuckie1` 直譯器\n",
    "\n",
    "準備小鴨車語 `DuckieDuckie1` 程式碼\n",
    "\n",
    "```\n",
    "backward 2s;\n",
    "```\n",
    "\n",
    "輸入你的直譯器\n",
    "\n",
    "```\n",
    "$ python yourcode.py < filename\n",
    "```\n",
    "\n",
    "看到小鴨車依照語義，進行後退兩秒的動作"
   ],
   "cell_type": "markdown",
   "metadata": {}
  },
  {
   "cell_type": "markdown",
   "metadata": {
    "slideshow": {
     "slide_type": "slide"
    }
   },
   "source": [
    "## Notice\n",
    "\n",
    "- 因需要使用到 `duckiebot_cs_zoo/libs` 目錄下的函式庫，請將程式碼放置於 `duckiebot_cs_zoo` 目錄下\n",
    "- deadline: 2020.11.27 before class"
   ]
  },
  {
   "cell_type": "markdown",
   "metadata": {
    "slideshow": {
     "slide_type": "slide"
    }
   },
   "source": [
    "## Reference\n",
    "\n",
    "- [python3.6 官方 builtin `input` 參考文件](https://docs.python.org/3.6/library/functions.html#input)\n",
    "- [python3.6 官方 re 參考文件](https://docs.python.org/3.6/library/re.html)\n",
    "- [regex 101](https://regex101.com/)\n",
    "- [video: Introduction to Theory of Computation](https://www.youtube.com/watch?v=58N2N7zJGrQ&list=PLBlnK6fEyqRgp46KUv4ZY69yXmpwKOIev)\n",
    "- [video: What Is System Software ? | Functions And Types Of System Software](https://www.youtube.com/watch?v=Ts8hvn198mM)"
   ]
  }
 ],
 "metadata": {
  "celltoolbar": "Slideshow",
  "kernelspec": {
   "name": "python3",
   "display_name": "Python 3.8.5 64-bit",
   "metadata": {
    "interpreter": {
     "hash": "aee8b7b246df8f9039afb4144a1f6fd8d2ca17a180786b69acc140d282b71a49"
    }
   }
  },
  "language_info": {
   "codemirror_mode": {
    "name": "ipython",
    "version": 3
   },
   "file_extension": ".py",
   "mimetype": "text/x-python",
   "name": "python",
   "nbconvert_exporter": "python",
   "pygments_lexer": "ipython3",
   "version": "3.8.5-final"
  },
  "rise": {
   "enable_chalkboard": true,
   "scroll": true,
   "theme": "night"
  }
 },
 "nbformat": 4,
 "nbformat_minor": 4
}