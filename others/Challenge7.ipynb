{
 "cells": [
  {
   "cell_type": "markdown",
   "metadata": {
    "slideshow": {
     "slide_type": "slide"
    }
   },
   "source": [
    "# Challenge 7: 自駕車間的溝通 (網路工程)\n",
    "\n",
    "2020.11.20"
   ]
  },
  {
   "cell_type": "markdown",
   "metadata": {
    "slideshow": {
     "slide_type": "slide"
    }
   },
   "source": [
    "## Objective\n",
    "\n",
    "- Learn socket programming to exchange data between different computer\n",
    "- Understand how computer communicate through network\n",
    "- Understand difference between two common OSI 4 protocol `TCP` and `UDP`"
   ]
  },
  {
   "cell_type": "markdown",
   "metadata": {
    "slideshow": {
     "slide_type": "slide"
    }
   },
   "source": [
    "## Requirement !?\n",
    "\n",
    "讓我們來做一台 沒有 AR 的 ~~馬力歐~~ 小鴨賽車 吧\n",
    "\n",
    "![](https://im.marieclaire.com.tw/m800c533h100b0/assets/mc/202009/5F51E631CB1701599202865.jpeg)\n",
    "\n"
   ]
  },
  {
   "cell_type": "markdown",
   "metadata": {
    "slideshow": {
     "slide_type": "slide"
    }
   },
   "source": [
    "## Requirement\n",
    "\n",
    "使用學會的 socket programming 去傳遞 camera 的影像  \n",
    "讓使用者可以看著車子 camera 畫面操控車子通過賽道，經過三個招牌，並從出口走出\n",
    "\n",
    "傳送的方法不限，每張圖片 (擷取出的 camera 影像) 經過 `jpeg` 壓縮後，大約是有 6K ~ 30K 的 byte 位元資料  \n",
    "在 `Python` 的變數型態是 `bytes` 與 `b'\\x00'` 是一樣的，只是長度是 `6000` 到 `30000`\n",
    "\n",
    "助教會提供取得圖片的位元資料 與 接受位元資料 並顯示到出來的程式  \n",
    "因此需要開發的部分是: **如何傳遞 圖片的位元資料，與接受 圖片的位元資料**"
   ]
  },
  {
   "cell_type": "markdown",
   "metadata": {
    "slideshow": {
     "slide_type": "slide"
    }
   },
   "source": [
    "## Demo\n",
    "\n",
    "將兩個視窗調整到可以一起看到，並把視窗關注在控制小鴨賽車的視窗上  \n",
    "就可以開始體驗 小鴨賽車 囉！\n",
    "\n",
    "<br/>\n",
    "\n",
    "<video src=\"https://imgur.com/KvoKOUm.mp4\" controls width=\"100%\">\n",
    "    <!--<source src=\"https://imgur.com/KvoKOUm.mp4\" type=\"video/mp4\" /> !-->\n",
    "    \n",
    "    Sorry, doesn't support embedded videos.\n",
    "</video>\n",
    "\n",
    "\n",
    "> video url: https://imgur.com/KvoKOUm.mp4"
   ]
  },
  {
   "cell_type": "markdown",
   "metadata": {
    "slideshow": {
     "slide_type": "slide"
    }
   },
   "source": [
    "## Library\n",
    "\n",
    "一樣請先拉取 Challenge7 所需要的程式碼\n",
    "\n",
    "`git clone -b Challenge7 https://github.com/GrassLab/NCTU_CS_ZOO.git Challenge7` \n",
    "\n",
    "這邊與大家介紹新增的函式庫 `libs/camera_streaming.py`\n",
    "\n",
    "### 如何使用或引用\n",
    "\n",
    "#### 方法1: 將程式碼放置於 `duckiebot_cs_zoo` 目錄下\n",
    "\n",
    "> 適用於 小鴨車 與 自己電腦\n",
    "\n",
    "```\n",
    "from libs.camera_streaming import CameraProducer, CameraConsumer\n",
    "```\n",
    "\n",
    "#### 方法2: 只複製 `CameraConsumer` 物件所有的程式碼，並貼上在自己程式碼內\n",
    "\n",
    "> 只適用於 自己電腦"
   ]
  },
  {
   "cell_type": "markdown",
   "metadata": {
    "slideshow": {
     "slide_type": "subslide"
    }
   },
   "source": [
    "### CameraProducer 物件\n",
    "\n",
    "跑在小鴨車上，用來取得圖片"
   ]
  },
  {
   "cell_type": "code",
   "execution_count": null,
   "metadata": {
    "slideshow": {
     "slide_type": "fragment"
    }
   },
   "outputs": [],
   "source": [
    "from libs.camera_streaming import CameraProducer\n",
    "\n",
    "# recommand to use default value\n",
    "# 推薦使用預設值\n",
    "cp = CameraProducer()\n",
    "\n",
    "# get image bytes data, sleep automaticaly by framerate\n",
    "# 取得圖片位元組資料，會自動根據幀率睡眠\n",
    "img_bytedata: bytes = cp.get_img_bytedata()"
   ]
  },
  {
   "cell_type": "markdown",
   "metadata": {
    "slideshow": {
     "slide_type": "subslide"
    }
   },
   "source": [
    "### CameraConsumer\n",
    "\n",
    "跑在任意客戶端 (例如：自己電腦)，去顯示圖片"
   ]
  },
  {
   "cell_type": "code",
   "execution_count": null,
   "metadata": {
    "slideshow": {
     "slide_type": "fragment"
    }
   },
   "outputs": [],
   "source": [
    "from libs.camera_streaming import CameraConsumer\n",
    "\n",
    "# recommand to use default value\n",
    "# 推薦使用預設值\n",
    "cc = CameraConsumer()\n",
    "\n",
    "# show image bytes data, auto open GUI window to show it\n",
    "# 顯示圖片位元組資料，會自動打開 GUI 視窗顯示\n",
    "cc.show_img_bytedata(img_bytedata)"
   ]
  },
  {
   "cell_type": "markdown",
   "metadata": {
    "slideshow": {
     "slide_type": "slide"
    }
   },
   "source": [
    "## Notice\n",
    "\n",
    "- 不需要與作業的程式碼整合在一起，可以同時執行多個程式\n",
    "- 有任何問題，歡迎發問"
   ]
  },
  {
   "cell_type": "markdown",
   "metadata": {
    "slideshow": {
     "slide_type": "slide"
    }
   },
   "source": [
    "## Hint\n",
    "\n",
    "![](https://imgur.com/LY5XaXg.png)"
   ]
  }
 ],
 "metadata": {
  "celltoolbar": "Slideshow",
  "kernelspec": {
   "display_name": "Python 3",
   "language": "python",
   "name": "python3"
  },
  "language_info": {
   "codemirror_mode": {
    "name": "ipython",
    "version": 3
   },
   "file_extension": ".py",
   "mimetype": "text/x-python",
   "name": "python",
   "nbconvert_exporter": "python",
   "pygments_lexer": "ipython3",
   "version": "3.7.6"
  },
  "rise": {
   "enable_chalkboard": true,
   "scroll": true,
   "theme": "night"
  }
 },
 "nbformat": 4,
 "nbformat_minor": 2
}
