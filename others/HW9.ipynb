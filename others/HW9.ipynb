{
 "cells": [
  {
   "cell_type": "markdown",
   "metadata": {
    "slideshow": {
     "slide_type": "slide"
    }
   },
   "source": [
    "# HW 9: 自駕車安全 (資訊安全)\n",
    "\n",
    "2020.11.27"
   ]
  },
  {
   "cell_type": "markdown",
   "metadata": {
    "slideshow": {
     "slide_type": "slide"
    }
   },
   "source": [
    "## Tutorial\n",
    "\n",
    "- [Lab9 Introduction by TA (10:51)](https://www.youtube.com/watch?v=wih8YGJrdb0&list=PLoZPctIb8M5RajPTWv9H2Nw9woLAdaSKQ)\n",
    "- [Cybersecurity: Crash Course Computer Science #31 (12:29)](https://www.youtube.com/watch?v=bPVaOlJ6ln0)\n",
    "- [The Internet: Encryption & Public Keys (06:39)](https://www.youtube.com/watch?v=ZghMPWGXexs)\n"
   ]
  },
  {
   "cell_type": "markdown",
   "metadata": {
    "slideshow": {
     "slide_type": "slide"
    }
   },
   "source": [
    "## Objective\n",
    "\n",
    "- Learn how to sniffer self network packets\n",
    "- Understand what is cybersecurity\n"
   ]
  },
  {
   "cell_type": "markdown",
   "metadata": {
    "slideshow": {
     "slide_type": "slide"
    }
   },
   "source": [
    "## Problem\n",
    "\n",
    "在前面 `Lab7 自駕車間的溝通 (網路工程)`，我們可以透過網路與小鴨車交換資料  \n",
    "讓其他使用者用 `remote_joystick`，便可以控制我們的小鴨車  \n",
    "\n",
    "但這樣，我們的小鴨車是安全的嗎？  \n",
    "會不會我們的控制資料可以被壞使用者一覽無遺\n",
    "\n",
    "另外，平常在使用 `HTTP` 網站也是安全的嗎？是不是敏感資料也會被看光光"
   ]
  },
  {
   "cell_type": "markdown",
   "metadata": {
    "slideshow": {
     "slide_type": "slide"
    }
   },
   "source": [
    "## Requirement\n",
    "\n",
    "學習使用開源的 網路封包分析工具 `Wireshark`\n",
    "\n",
    "- 去觀察 `Lab7 自駕車間的溝通 (網路工程)` 作業 (非挑戰) 所傳輸的 `TCP` 與 `UDP` 封包\n",
    "  - 需觀察到送出馬達控制訊號的 `TCP` 封包內的資料 (payload)\n",
    "  - 需觀察到送出車燈控制訊號的 `UDP` 封包內的資料 (payload)\n",
    "  - 需觀察到小鴨車回覆馬達控制訊號的 `TCP` 封包內的資料 (payload)\n",
    "- 使用 帳號密碼 登入 http://www.techpanda.org/ ，觀察 `HTTP` 封包內是否會曝露帳號密碼\n",
    "  - 帳號: `admin@google.com` 密碼: `Password2010`\n",
    "  - 該網站是該課程找來用於測試 `HTTP` 是否會曝露敏感資訊，其網站的架設與管理並非是該課程的教學團隊"
   ]
  },
  {
   "cell_type": "markdown",
   "metadata": {
    "slideshow": {
     "slide_type": "slide"
    }
   },
   "source": [
    "## Steps 實作步驟\n",
    "\n",
    "僅供參考，並非寫出作業的唯一方法  \n",
    "只是其中一種方法"
   ]
  },
  {
   "cell_type": "markdown",
   "metadata": {
    "slideshow": {
     "slide_type": "subslide"
    }
   },
   "source": [
    "### Step1: 安裝 `Wireshark`，並開啟 `Wireshark`\n",
    "\n",
    "可以到 [Download Wireshark](https://www.wireshark.org/download.html)  \n",
    "根據作業系統選擇適合的安裝檔案\n",
    "\n",
    "安裝完後，開啟 `Wireshark` 可以看到如下畫面\n",
    "\n",
    "![](https://imgur.com/gG0pOsy.png)"
   ]
  },
  {
   "cell_type": "markdown",
   "metadata": {
    "slideshow": {
     "slide_type": "subslide"
    }
   },
   "source": [
    "### Step2: 選擇網路介面，開始擷取封包\n",
    "\n",
    "在主頁面的 `Capture` 下可以看到多張網路介面卡 `interface`  \n",
    "根據你正在使用的介面卡雙擊  \n",
    "例如：該圖中，因為正在使用 `wifi` 所以選擇了 `wifi` 的介面卡\n",
    "\n",
    "![](https://imgur.com/q3G8GLf.png)\n",
    "\n",
    "`Wireshark` 就會開始去擷取在這張介面卡上的封包  \n",
    "會看到有很多封包被一個一個顯示在列表上\n",
    "\n",
    "![](https://imgur.com/IhLx2gW.png)"
   ]
  },
  {
   "cell_type": "markdown",
   "metadata": {
    "slideshow": {
     "slide_type": "subslide"
    }
   },
   "source": [
    "### Step3: 透過 filter expression 過濾封包\n",
    "\n",
    "因為會有各種封包被擷取到，像是正在瀏覽網頁時的 `HTTP` 或 `TLS` 等等  \n",
    "但我們只想要針對正在控制小鴨車的封包  \n",
    "首先要思考控制小鴨車的封包有什麼特性？然後去將封包過濾出來  \n",
    "因為 `Lab7 自駕車間的溝通 (網路工程)` 要求，我們的小鴨車固定都是監聽 `54760` 這個 port 埠號  \n",
    "所以只要過濾出 **目標埠號為 `54760`** 的封包\n",
    "\n",
    "嘗試在上方的 輸入框 輸入：`tcp.dstport == 54760`  \n",
    "代表我們需要只把我們顯示出 `TCP` 的目標埠號 等於 `54760` 的封包  \n",
    "記得按下 `Enter` 讓 `Wireshark` 應用該 filter expression 過濾表達式\n",
    "\n",
    "![](https://imgur.com/bdHTQgw.png)\n",
    "\n",
    "> 更詳細介紹可以看 [Wireshark UserGuide: The “Filter” Toolbar](https://www.wireshark.org/docs/wsug_html_chunked/ChUseFilterToolbarSection.html)\n",
    "\n",
    "有可能會發現什麼封包都沒有顯示，那是因為我們還沒執行 `Lab7 自駕車間的溝通 (網路工程)` 的程式"
   ]
  },
  {
   "cell_type": "markdown",
   "metadata": {
    "slideshow": {
     "slide_type": "subslide"
    }
   },
   "source": [
    "### Step4: 用 `Lab7 hw` 控制小鴨車去觀察擷取到的封包\n",
    "\n",
    "嘗試去控制小鴨車，會發現到 `Wireshark` 開始有擷取到相關的 `TCP` 封包\n",
    "\n",
    "![](https://imgur.com/l246P0f.png)"
   ]
  },
  {
   "cell_type": "markdown",
   "metadata": {
    "slideshow": {
     "slide_type": "subslide"
    }
   },
   "source": [
    "### Step5: 修改 filter expression 找出相關的 `TCP` 與 `UDP` 封包\n",
    "\n",
    "`tcp.dstport == 54760` 這條 filter expression 還不足以讓我們過濾出所有控制小鴨車相關的封包  \n",
    "因此要修改 filter expression 去過濾出控制小鴨車相關的 `TCP` 與 `UDP` 封包\n",
    "\n",
    "當一個控制小鴨車前進時，要可以看到\n",
    "\n",
    "- 送出前進資料的 `TCP` 封包\n",
    "- 送出前進燈號資料的 `UDP` 封包\n",
    "- 小鴨車回覆的 `TCP` 封包\n",
    "\n",
    "如下圖:\n",
    "\n",
    "小鴨車為 `192.168.87.100` ，執行 `remote_joystick.py` 的電腦為 `192.168.87.101`\n",
    "\n",
    "![](https://imgur.com/oTzHose.png)\n",
    "\n",
    "- `No.779` 封包為 送出前進資料的 `TCP` 封包\n",
    "- `No.780` 封包為 送出前進燈號資料的 `UDP` 封包\n",
    "- `No.782` 封包為 小鴨車回覆的 `TCP` 封包\n",
    "\n",
    "> 沒有連號是正常的，因為中間可能有其他諸如 `ICMP`, `HTTP` 封包"
   ]
  },
  {
   "cell_type": "markdown",
   "metadata": {
    "slideshow": {
     "slide_type": "subslide"
    }
   },
   "source": [
    "### Step6: 登入網站，並過濾出相關的 `HTTP` 封包\n",
    "\n",
    "先開啟 `Wireshark` 的封包擷取，然後前往 http://www.techpanda.org/ 登入網站  \n",
    "因為**該網站已經遭受 注入程式碼 攻擊，因此登入後很有可能看到不正常的頁面**  \n",
    "但不影響我們去觀察登入帳密是否會曝露\n",
    "\n",
    "透過在 filter expression 輸入 `http`，可以過濾出所有 `HTTP` 的封包  \n",
    "找到用於登入的 `HTTP POST /index.php` 請求，嘗試觀察封包內是否可以看到帳號密碼\n",
    "\n",
    "![](https://imgur.com/xd1EvHR.png)"
   ]
  },
  {
   "cell_type": "markdown",
   "metadata": {
    "slideshow": {
     "slide_type": "slide"
    }
   },
   "source": [
    "## Notice\n",
    "\n",
    "- deadline: 2020.12.04 before class"
   ]
  },
  {
   "cell_type": "markdown",
   "metadata": {
    "slideshow": {
     "slide_type": "slide"
    }
   },
   "source": [
    "## Reference\n",
    "\n",
    "- [Wireshark UserGuide: The “Filter” Toolbar](https://www.wireshark.org/docs/wsug_html_chunked/ChUseFilterToolbarSection.html)\n",
    "- [Wireshark UserGuide: Building Display Filter Expressions](https://www.wireshark.org/docs/wsug_html_chunked/ChWorkBuildDisplayFilterSection.html)"
   ]
  }
 ],
 "metadata": {
  "celltoolbar": "Slideshow",
  "kernelspec": {
   "display_name": "Python 3",
   "language": "python",
   "name": "python3"
  },
  "language_info": {
   "codemirror_mode": {
    "name": "ipython",
    "version": 3
   },
   "file_extension": ".py",
   "mimetype": "text/x-python",
   "name": "python",
   "nbconvert_exporter": "python",
   "pygments_lexer": "ipython3",
   "version": "3.7.6"
  },
  "rise": {
   "enable_chalkboard": true,
   "scroll": true,
   "theme": "night"
  }
 },
 "nbformat": 4,
 "nbformat_minor": 4
}
