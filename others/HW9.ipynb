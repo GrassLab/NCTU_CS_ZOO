{
 "cells": [
  {
   "cell_type": "markdown",
   "metadata": {
    "slideshow": {
     "slide_type": "slide"
    }
   },
   "source": [
    "# HW 9: 自駕車安全 (資訊安全)\n",
    "\n",
    "2020.11.27"
   ]
  },
  {
   "cell_type": "markdown",
   "metadata": {
    "slideshow": {
     "slide_type": "slide"
    }
   },
   "source": [
    "## Tutorial\n",
    "\n",
    "- [TA placehold]()\n",
    "- [Cybersecurity: Crash Course Computer Science #31 (12:29)](https://www.youtube.com/watch?v=bPVaOlJ6ln0)\n",
    "- [The Internet: Encryption & Public Keys (06:39)](https://www.youtube.com/watch?v=ZghMPWGXexs)\n",
    "- [The Caesar cipher | Journey into cryptography | Computer Science | Khan Academy (02:35)](https://www.youtube.com/watch?v=sMOZf4GN3oc)"
   ]
  },
  {
   "cell_type": "markdown",
   "metadata": {
    "slideshow": {
     "slide_type": "slide"
    }
   },
   "source": [
    "## Objective\n",
    "\n",
    "- Learn caesar cipher to encrypt or decrypt text data\n",
    "- Understand symmetric encryption and asymmetric encryption\n",
    "- Understand why we need cryptography\n"
   ]
  },
  {
   "cell_type": "markdown",
   "metadata": {
    "slideshow": {
     "slide_type": "slide"
    }
   },
   "source": [
    "## Problem\n",
    "\n",
    "在前面 `Lab7 自駕車間的溝通 (網路工程)`，我們可以透過網路與小鴨車交換資料  \n",
    "但網路上傳遞的資料是可以被他人看到內容，我們不希望小鴨車的一舉一動都被他人知道\n",
    "\n",
    "有沒有什麼方法可以保護資料會被他人看到，但只有特定對象可以理解內容？\n"
   ]
  },
  {
   "cell_type": "markdown",
   "metadata": {
    "slideshow": {
     "slide_type": "slide"
    }
   },
   "source": [
    "## Requirement\n",
    "\n",
    "1. 實作對稱加密的 `凱薩加密` 的加密與解密工具，去保護交換的資料\n",
    "  - 假設使用的資料都是合法的 `ascii` 編碼\n",
    "2. 暴力破解一段加密後的密文，評估破解難度\n"
   ]
  },
  {
   "source": [
    "### 凱薩加密\n",
    "\n",
    "當遇到 `a-z` 與 `A-Z` 時，利用金鑰做凱薩加密。  \n",
    "當遇到除此之外的 `ascii` 不做凱薩加密，因此跟原本的字相同。\n"
   ],
   "cell_type": "markdown",
   "metadata": {}
  },
  {
   "source": [
    "## Test example\n",
    "\n",
    "當金鑰為 `3` 並使用凱薩加密，可以將下列明文\n",
    "\n",
    "```\n",
    "hello duckie!\n",
    "```\n",
    "\n",
    "轉換為\n",
    "\n",
    "```\n",
    "khoor gxfnlh!\n",
    "```\n",
    "\n",
    "反過來使用金鑰為 `3`，對下列密文做解密\n",
    "\n",
    "```\n",
    "khoor gxfnlh!\n",
    "```\n",
    "\n",
    "可以得到\n",
    "\n",
    "```\n",
    "hello duckie!\n",
    "```\n"
   ],
   "cell_type": "markdown",
   "metadata": {}
  },
  {
   "source": [
    "## Example 1\n",
    "\n",
    "明文為:\n",
    "\n",
    "```\n",
    "Our lab at EC214.\n",
    "```\n",
    "\n",
    "用金鑰為 `13` 進行加密後的密文為:\n",
    "\n",
    "```\n",
    "Bhe yno ng RP214.\n",
    "```\n",
    "\n"
   ],
   "cell_type": "markdown",
   "metadata": {}
  },
  {
   "source": [
    "## Example 2\n",
    "\n",
    "密文為:\n",
    "\n",
    "```\n",
    "vxotz('TIZA oy gckyusk')\n",
    "osvuxz zosk\n",
    "zosk.yrkkv(5)\n",
    "```\n",
    "\n",
    "用金鑰為 `6` 進行解密後的明文為:\n",
    "\n",
    "```\n",
    "print('NCTU is awesome')\n",
    "import time\n",
    "time.sleep(5)\n",
    "```\n"
   ],
   "cell_type": "markdown",
   "metadata": {}
  },
  {
   "cell_type": "markdown",
   "metadata": {
    "slideshow": {
     "slide_type": "slide"
    }
   },
   "source": [
    "## Notice\n",
    "\n",
    "- deadline: 2020.12.04 before class"
   ]
  },
  {
   "cell_type": "markdown",
   "metadata": {
    "slideshow": {
     "slide_type": "slide"
    }
   },
   "source": [
    "## Reference\n",
    "\n",
    "- [Caesar cipher wiki](https://en.wikipedia.org/wiki/Caesar_cipher)"
   ]
  }
 ],
 "metadata": {
  "celltoolbar": "Slideshow",
  "kernelspec": {
   "display_name": "Python 3",
   "language": "python",
   "name": "python3"
  },
  "language_info": {
   "codemirror_mode": {
    "name": "ipython",
    "version": 3
   },
   "file_extension": ".py",
   "mimetype": "text/x-python",
   "name": "python",
   "nbconvert_exporter": "python",
   "pygments_lexer": "ipython3",
   "version": "3.7.6"
  },
  "rise": {
   "enable_chalkboard": true,
   "scroll": true,
   "theme": "night"
  }
 },
 "nbformat": 4,
 "nbformat_minor": 4
}