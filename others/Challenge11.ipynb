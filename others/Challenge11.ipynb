{
 "cells": [
  {
   "cell_type": "markdown",
   "metadata": {},
   "source": [
    "# Challenge 11 工人智慧與自駕車(機率)\n",
    "\n",
    "## Objective\n",
    "\n",
    "- 了解走直線的方法(Propotional controller)，以及能深入線段偵測的結果意義\n",
    "- 完成能安全停下的自駕車: 走直線以及看到紅線能自動停下\n",
    "\n",
    "## Code\n",
    "\n",
    "- 下載 Challenge 11的程式碼\n",
    "\n",
    "  ```\n",
    "  git clone -b Challenge11 https://github.com/GrassLab/NCTU_CS_ZOO.git Challenge11\n",
    "  ```\n",
    "\n",
    "- Challenge 11 比起 Lab11**只新增了以下四個檔案**，如果你開發環境已經設定好，可以**手動複製以下四個檔案進入你的Lab11對應資料夾即可**\n",
    "\n",
    "  - 複製```Challenge11/duckiebot_cs_zoo/app/lane/lane_detector_demo_challenge11.py```到```Lab11/duckiebot_cs_zoo/app/lane/```裡面\n",
    "  - 複製```Challenge11/duckiebot_cs_zoo/app/automatic_parking_color_challenge11.py```到```Lab11/duckiebot_cs_zoo/app/```裡面\n",
    "  - ```Challenge11/duckiebot_cs_zoo/libs/lane_filter_lr_duckie.py```到```Lab11/duckiebot_cs_zoo/libs/```裡面\n",
    "  - ```Challenge11/duckiebot_cs_zoo/libs/lane_filter_stop_red.py```到```Lab11/duckiebot_cs_zoo/libs/```裡面\n",
    "\n",
    "## Requirements\n",
    "\n",
    "- 這次需要同學完成讓小鴨車走直線，然後停車在紅線前，車子只要在停車時還在白線黃線內，且小車座標系原點(車輪中央點)**在紅線底端前17cm** (dist=0的位置)的**前後5公分內停下**即可\n",
    "- **行進過程中可以超出線外，但最後要開回線內才可以**\n",
    "- 車車停車時**壓到紅線**或是**有一個輪子完整地在黃線或白線外**算fail，太早停也不行(**紅線底端**至少要離車輪中央點小於22cm)，**其他case都算Pass**\n",
    "- 出發位置由助教自由調整，約在距離紅線底端75-120公分處，出發角度$|\\phi|<30$度\n",
    "\n",
    "## 實作流程\n",
    "\n",
    "1. SSH連進小鴨車開啟duckiebot的server\n",
    "\n",
    "2. 仿照Lab11 **Step1和Step2**，執行顏色校正 (請放在助教給的新黑底巧拼地圖)\n",
    "\n",
    "   - ``````bash\n",
    "     cd duckiebot_cs_zoo\n",
    "     python -m app.lane.lane_detector_demo_challenge11\n",
    "     ``````\n",
    "\n",
    "   - 注意，這次顏色變成只有```colors = ['red', 'yellow', 'white']```\n",
    "\n",
    "   - 注意，助教預設的**b3**圖片可能會比較好\n",
    "\n",
    "3. 直接複製你Lab11完成的作業```duckiebot_cs_zoo/libs/lane_filter_stop.py```(**對應紅色的Top與Bottom case**)取代新的```lane_filter_stop_red.py```中的181行與191行的dist2parking，**程式碼不用進行任何更改，如果有特別處理黃色的邏輯請刪掉就好，保留紅色的即可**\n",
    "\n",
    "4. 開啟```duckiebot_cs_zoo/app/automatic_parking_color_challenge11.py```，實作你的走直線邏輯，可以參考助教提供的程式，並請注意，使用```detected_red_segments```變數來決定要不要使用```dist = lane_filter_stop.get_estimate()```的結果，因為一開始可能看不到任何紅線區塊\n",
    "\n",
    "\n"
   ]
  },
  {
   "cell_type": "code",
   "execution_count": null,
   "metadata": {},
   "outputs": [],
   "source": []
  }
 ],
 "metadata": {
  "kernelspec": {
   "display_name": "Python 3",
   "language": "python",
   "name": "python3"
  },
  "language_info": {
   "codemirror_mode": {
    "name": "ipython",
    "version": 3
   },
   "file_extension": ".py",
   "mimetype": "text/x-python",
   "name": "python",
   "nbconvert_exporter": "python",
   "pygments_lexer": "ipython3",
   "version": "3.7.4"
  }
 },
 "nbformat": 4,
 "nbformat_minor": 2
}
