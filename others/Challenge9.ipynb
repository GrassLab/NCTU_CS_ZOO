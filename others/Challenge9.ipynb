{
 "cells": [
  {
   "cell_type": "markdown",
   "metadata": {
    "slideshow": {
     "slide_type": "slide"
    }
   },
   "source": [
    "# Challenge 9: 自駕車安全 (資訊安全)\n",
    "\n",
    "2020.12.04"
   ]
  },
  {
   "cell_type": "markdown",
   "metadata": {
    "slideshow": {
     "slide_type": "slide"
    }
   },
   "source": [
    "## Objective\n",
    "\n",
    "- Learn how to sniffer self network packets\n",
    "- Understand what is cybersecurity\n"
   ]
  },
  {
   "source": [
    "## Requirement\n",
    "\n",
    "利用 `Wireshark` 分析封包，突破關卡，總共有 2 關\n",
    "\n",
    "- 第一關: 網站實作不當，導致敏感資料外洩\n",
    "  - 請連上 http://.../level1/group0 網站，根據你的組別號碼更換到正確的網址\n",
    "  - 透過觀察 `HTTP` 封包找到曝露的敏感資料\n",
    "  - 利用曝露的敏感資料登入網站\n",
    "\n",
    "- 第二關: 模擬嗅探他人封包\n",
    "  - 使用廣播的 `UDP` 封包模擬可以嗅探他人封包，實務上需要軟硬體都支援才能做到\n",
    "  - 請連上 http://.../level2/group0 網站，根據你的組別號碼更換到正確的網址\n",
    "  - 根據網站上資訊去嗅探 `Alice` 與 `Bob` 的聊天內容\n",
    "  - 透過沒有加密的聊天內容找到敏感資料\n",
    "  - 利用曝露的敏感資料登入網站\n",
    "\n",
    "破完這兩個關卡，即達成 `Requirement` ，沒有要求先後順序  \n",
    "且該次 Challenge 為分組計分\n"
   ],
   "cell_type": "markdown",
   "metadata": {}
  },
  {
   "source": [
    "## Hint\n",
    "\n",
    "- 透過 `filter expression` 過濾出想要找的封包\n",
    "  - 也可過濾封包資料\n",
    "- 不需要太多技術知識，重點在傳輸的封包內曝露的敏感資料\n"
   ],
   "cell_type": "markdown",
   "metadata": {}
  },
  {
   "cell_type": "markdown",
   "metadata": {
    "slideshow": {
     "slide_type": "slide"
    }
   },
   "source": [
    "## Notice\n",
    "\n",
    "- deadline: 2020.12.04 before class"
   ]
  },
  {
   "cell_type": "markdown",
   "metadata": {
    "slideshow": {
     "slide_type": "slide"
    }
   },
   "source": [
    "## Reference\n",
    "\n",
    "- [Wireshark UserGuide: The “Filter” Toolbar](https://www.wireshark.org/docs/wsug_html_chunked/ChUseFilterToolbarSection.html)\n",
    "- [Wireshark UserGuide: Building Display Filter Expressions](https://www.wireshark.org/docs/wsug_html_chunked/ChWorkBuildDisplayFilterSection.html)"
   ]
  }
 ],
 "metadata": {
  "celltoolbar": "Slideshow",
  "kernelspec": {
   "display_name": "Python 3",
   "language": "python",
   "name": "python3"
  },
  "language_info": {
   "codemirror_mode": {
    "name": "ipython",
    "version": 3
   },
   "file_extension": ".py",
   "mimetype": "text/x-python",
   "name": "python",
   "nbconvert_exporter": "python",
   "pygments_lexer": "ipython3",
   "version": "3.7.6"
  },
  "rise": {
   "enable_chalkboard": true,
   "scroll": true,
   "theme": "night"
  }
 },
 "nbformat": 4,
 "nbformat_minor": 4
}