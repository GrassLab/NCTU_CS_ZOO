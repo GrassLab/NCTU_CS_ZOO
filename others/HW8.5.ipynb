{
 "cells": [
  {
   "cell_type": "markdown",
   "metadata": {
    "slideshow": {
     "slide_type": "slide"
    }
   },
   "source": [
    "# HW 8.5: 自駕車接收命令與指揮 (計算理論 / 系統軟體)\n",
    "\n",
    "2020.11.25"
   ]
  },
  {
   "cell_type": "markdown",
   "metadata": {
    "slideshow": {
     "slide_type": "slide"
    }
   },
   "source": [
    "## 前言\n",
    "\n",
    "因為嚴謹的正則語法 regular grammar 定義太難以消化，為了本課的初衷: `探索`  \n",
    "這邊提供更白話的解釋去作業要求的 小鴨車語 `DuckieDuckie1` 是什麼\n",
    "\n",
    "同時在原本的實作步驟提到的 **正則表達式 regular expression 不是作業的必要條件**  \n",
    "只是一個可行的工具跟技巧去完成作業要求  \n",
    "因此，可以使用任何方式去剖析小鴨車語 `DuckieDuckie1` 並執行對應的行為\n",
    "\n",
    "因為很重要，所以要說三次\n",
    "\n",
    "### 可以使用任何方式去剖析小鴨車語 `DuckieDuckie1` 並執行對應的行為\n",
    "\n",
    "> 可以使用任何方式去剖析小鴨車語 `DuckieDuckie1` 並執行對應的行為\n",
    "\n",
    "**可以使用任何方式去剖析小鴨車語 `DuckieDuckie1` 並執行對應的行為**\n",
    "\n",
    "作業要求並沒有改變，已經完成的同學還是完成的  \n",
    "尚未完成的同學可以參考該篇去理解作業要求\n",
    "\n"
   ]
  },
  {
   "source": [
    "## Requirement\n",
    "\n",
    "實作出小鴨車語 `DuckieDuckie1` 直譯器，並可使用標準輸入或純文本檔案作為程式碼來源"
   ],
   "cell_type": "markdown",
   "metadata": {}
  },
  {
   "cell_type": "markdown",
   "metadata": {
    "slideshow": {
     "slide_type": "slide"
    }
   },
   "source": [
    "### 小鴨車語 `DuckieDuckie1`\n",
    "\n",
    "每個命令中開頭第一個是 `小鴨車前進方向`，第二個是 `數字`，第三個是 `時間單位`，並且以 `;` 分號作為結尾。\n",
    "\n",
    "- `小鴨車前進方向` 只能是 `forward`, `backward`, `left`, `right` 四個字串其中之一\n",
    "- `數字` 為 `0` 到 `9` 的字元組成，至少要有一位數\n",
    "- `時間單位` 只能是 `ms` 與 `s` 兩個字串其中之一\n",
    "- 在 `小鴨車前進方向` 與 `數字` 之間，至少要有一個空白 ` `，多個空白是允許的。\n",
    "- 在 `數字` 與 `時間單位` 之間不能有其他字元，包含空白。\n",
    "- 在 `時間單位` 與 分號之間不能有其他字元，包含空白。\n",
    "\n",
    "目前，每個檔案只能有一個命令。  \n",
    "命令前面不能有任意個的空白與換行 `\\n`，因此只能檔案開頭就必須是 `小鴨車前進方向`  \n",
    "命令後面可以有任意個的空白與換行 `\\n`，但不能有另外一個命令。\n",
    "\n",
    "---\n",
    "\n",
    "`小鴨車前進方向` 決定了小鴨車應該往哪邊移動\n",
    "\n",
    "- `forward` 代表前進\n",
    "- `backward` 代表後退\n",
    "- `left` 代表左轉\n",
    "- `right` 代表右轉\n",
    "\n",
    "`數字` 與 `時間單位` 決定了小鴨車要維持 `小鴨車前進方向` 多久\n"
   ]
  },
  {
   "cell_type": "markdown",
   "metadata": {
    "slideshow": {
     "slide_type": "subslide"
    }
   },
   "source": [
    "## Test Example\n",
    "\n",
    "小鴨車語 `DuckieDuckie1` 的使用範例與行為\n",
    "\n",
    "有一個檔案 `main.duckie`\n",
    "```\n",
    "forward   1500ms;\n",
    "```\n",
    "\n",
    "透過命令列 `python duckieduckie1.py < main.duckie` 使用輸入重定向\n",
    "\n",
    "預期會看到小鴨車的行為是：\n",
    "\n",
    "```\n",
    "前進 1500 毫秒，最後停止\n",
    "```\n",
    "\n",
    "更多範例請參考下面\n"
   ]
  },
  {
   "cell_type": "markdown",
   "metadata": {
    "slideshow": {
     "slide_type": "subslide"
    }
   },
   "source": [
    "### Example 1: 左轉 3 秒\n",
    "\n",
    "檔案 `example1.duckie`\n",
    "```\n",
    "left 3s;  \\n\n",
    "```\n",
    "在連入小鴨車，並使用  \n",
    "`python duckieduckie1.py < example1.duckie`  \n",
    "會看到小鴨車行為是：\n",
    "```\n",
    "左轉 3 秒，然後停止\n",
    "```\n",
    "\n",
    "注意到 `;` 分號後面可以有任意個空白與換行，因此是合法的 `DuckieDuckie1`\n"
   ]
  },
  {
   "cell_type": "markdown",
   "metadata": {
    "slideshow": {
     "slide_type": "subslide"
    }
   },
   "source": [
    "### Example 2: 語法錯誤\n",
    "\n",
    "檔案 `example2.duckie`\n",
    "```\n",
    "left 3 s;\n",
    "```\n",
    "在連入小鴨車，並使用  \n",
    "`python duckieduckie1.py < example2.duckie`  \n",
    "會看到小鴨車行為是：\n",
    "```\n",
    "停止\n",
    "```\n",
    "\n",
    "因為**語法是錯的，應該提示使用者語法有誤**，提示有錯誤即可，不需給出是什麼錯誤  \n",
    "錯誤的地方在，`數字` 後面要緊接著 `時間單位` 不能有其他字元\n"
   ]
  },
  {
   "cell_type": "markdown",
   "metadata": {
    "slideshow": {
     "slide_type": "subslide"
    }
   },
   "source": [
    "### Example 3 語法錯誤\n",
    "\n",
    "檔案 `example3.duckie`\n",
    "```\n",
    "right 1500ms; forward 1s;\n",
    "```\n",
    "在連入小鴨車，並使用  \n",
    "`python duckieduckie1.py < example3.duckie`  \n",
    "會看到小鴨車行為是：\n",
    "```\n",
    "停止\n",
    "```\n",
    "\n",
    "因為**語法是錯的，應該提示使用者語法有誤**，提示有錯誤即可，不需給出是什麼錯誤  \n",
    "錯誤的地方在， `;` 後面只能有空白 ` ` 與換行 `\\n`，且不能有另一個命令\n"
   ]
  },
  {
   "source": [
    "### Example 4: 語法錯誤\n",
    "\n",
    "檔案 `example4.duckie`\n",
    "```\n",
    "left 3s ;\n",
    "```\n",
    "在連入小鴨車，並使用  \n",
    "`python duckieduckie1.py < example4.duckie`  \n",
    "會看到小鴨車行為是：\n",
    "```\n",
    "停止\n",
    "```\n",
    "\n",
    "因為**語法是錯的，應該提示使用者語法有誤**，提示有錯誤即可，不需給出是什麼錯誤  \n",
    "錯誤的地方在，`時間單位` 後面要緊接著 `;` 不能有其他字元\n"
   ],
   "cell_type": "markdown",
   "metadata": {}
  },
  {
   "source": [
    "### Example 5: 語法錯誤\n",
    "\n",
    "檔案 `example5.duckie`\n",
    "```\n",
    "  \\n left 3s;  \\n\n",
    "```\n",
    "在連入小鴨車，並使用  \n",
    "`python duckieduckie1.py < example5.duckie`  \n",
    "會看到小鴨車行為是：\n",
    "```\n",
    "停止\n",
    "```\n",
    "\n",
    "因為**語法是錯的，應該提示使用者語法有誤**，提示有錯誤即可，不需給出是什麼錯誤  \n",
    "錯誤的地方在，開頭必須是 `小鴨車前進方向`，不能有其它字元"
   ],
   "cell_type": "markdown",
   "metadata": {}
  }
 ],
 "metadata": {
  "celltoolbar": "Slideshow",
  "kernelspec": {
   "display_name": "Python 3",
   "language": "python",
   "name": "python3"
  },
  "language_info": {
   "codemirror_mode": {
    "name": "ipython",
    "version": 3
   },
   "file_extension": ".py",
   "mimetype": "text/x-python",
   "name": "python",
   "nbconvert_exporter": "python",
   "pygments_lexer": "ipython3",
   "version": "3.7.6"
  },
  "rise": {
   "enable_chalkboard": true,
   "scroll": true,
   "theme": "night"
  }
 },
 "nbformat": 4,
 "nbformat_minor": 4
}