{
 "cells": [
  {
   "cell_type": "markdown",
   "metadata": {},
   "source": [
    "# Challenge 10: 讓車子看得見-自駕車影像資料取得與分析 (線性代數/多媒體工程)\n",
    "\n",
    "2020.12.11\n",
    "\n",
    "## Objective\n",
    "\n",
    "- 活用 HW10 理解的相機座標系、Duckiebot 座標系彼此相對轉換關係\n",
    "- 實現(可靠的?)全自動停車系統"
   ]
  },
  {
   "cell_type": "markdown",
   "metadata": {},
   "source": [
    "## Project Code\n",
    "\n",
    "1. 請去 Lab10 在自己電腦端下載要用到的新檔案：`Lab10/duckiebot_cs_zoo/app/gen_map_pose.py`，並移到 `Lab10/duckiebot_cs_zoo/app/` 裡\n",
    "2. 修改原本的 `Lab10/duckiebot_cs_zoo/app/automatic_parking.py` (行數以 github 上的為主)\n",
    "    - 新增: `from app.gen_map_pose import tag_spec, gen_challenge10_mapping`\n",
    "    - line36: `tag_pts = get_five_points((0, 0), half=0.0125)` \n",
    "        - 改成 `tag_pts = get_five_points((0, 0), half=0.02)`\n",
    "    - line 37~38: `pose_mapping = get_pose_mapping(nx=6, ny=9, tsize=0.025, tspace=0.25)`\n",
    "        - 改成 `pose_mapping = gen_challenge10_mapping(tag_spec)`"
   ]
  },
  {
   "cell_type": "markdown",
   "metadata": {},
   "source": [
    "## Requirement\n",
    "- 利用立牌及路面上的 Apriltag 將車子停到特定號碼的停車格\n",
    "![image](https://raw.githubusercontent.com/yu2guang/NCTU-CS/master/pdf/Duckie/others/parking_space.png)\n",
    "- 新的座標系，右邊為+x軸 上面為+y軸，原點在左下角\n",
    "- 停車方向為朝左側，因此角度為+-180上下，因此需小心處理\n",
    "- 使用環境變數 TARGET=0 (0,1,2) 來代表要去的車位由下到上，只要兩個輪子的最低點都在格子內，且旋轉角目測小於30度即可通過\n"
   ]
  },
  {
   "cell_type": "markdown",
   "metadata": {},
   "source": [
    "## Notice\n",
    "\n",
    "- 可用任何環境 demo\n",
    "- Reward\n",
    "    - demo before 8:30 pm: 金牌\n",
    "    - demo before 9:30 pm: 銀牌\n",
    "    - demo next week at 6:00 ~ 6:30 pm: 銅牌"
   ]
  }
 ],
 "metadata": {
  "kernelspec": {
   "display_name": "Python 3",
   "language": "python",
   "name": "python3"
  },
  "language_info": {
   "codemirror_mode": {
    "name": "ipython",
    "version": 3
   },
   "file_extension": ".py",
   "mimetype": "text/x-python",
   "name": "python",
   "nbconvert_exporter": "python",
   "pygments_lexer": "ipython3",
   "version": "3.7.4"
  }
 },
 "nbformat": 4,
 "nbformat_minor": 4
}