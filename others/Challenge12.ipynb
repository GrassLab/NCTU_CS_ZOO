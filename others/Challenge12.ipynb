{
 "cells": [
  {
   "cell_type": "markdown",
   "metadata": {},
   "source": [
    "# Challenge 12 人工智慧與自駕車 (人工智慧與數據科學)\n",
    "\n",
    "## Objective\n",
    "\n",
    "- 完成自駕車挑戰\n",
    "- 了解視覺循跡控制原理與實作\n",
    "\n",
    "## Tutorials (Reference)\n",
    "\n",
    "1. [Controlling Self Driving Cars(可以多看幾次)](https://www.youtube.com/watch?v=4Y7zG48uHRo)\n",
    "2. [PID Controller Intro](https://towardsdatascience.com/pid-controller-intro-26fda41aaa59)\n",
    "\n",
    "## Requirements\n",
    "\n",
    "- 這次Challenge12需要大家完成上週所示範的繞圈任務，並需要用到Challenge 11完成的程式\n",
    "  - 首先車車由助教放到起始點(紅線此時將相對位於車尾後，因此不會看到紅線)\n",
    "  - 車子需自行繞一圈(逆時針循外線道)，直到遇到紅色終點線區塊後停止(可以只停止3秒即可)\n",
    "  - 途中如果不小心誤判紅色區塊，而出現暫時性停止(例如3秒)不會fail，只要可以繼續恢復前進即可\n",
    "  - 途中如果走到線外或是進入內車道，只要可以自行恢復就不算fail，但如果小鴨車出現兩輪同時超出左側或右側車道線，則立即fail終止demo (需重新排隊)\n",
    "  - 如果小鴨車最終無法在**在紅線底端前** $17cm\\pm 5cm$停止，或是有任何一個輪子壓到紅線則為fail\n",
    "- 金銀銅牌規則如下: \n",
    "  - 銅牌: 繞一圈且順利在紅線前停下\n",
    "  - 銀牌: 銅牌條件+途中完全沒又壓到**外側白色道路線**\n",
    "  - 金牌: 銀牌條件+120秒內繞完一圈(外圈)\n",
    "\n",
    "## Code\n",
    "\n",
    "- 請參考Challenge 11的[automatic_parking_color_challenge11.py](https://github.com/GrassLab/NCTU_CS_ZOO/blob/Challenge11/duckiebot_cs_zoo/app/automatic_parking_color_challenge11.py)\n",
    "  - 裡面有Implement **Propotional (P)**的部分，亦可以參考Tutorials的資料實作I與D的部分，但基本上調整好P的部分**應該**就**有機會**能完成一圈拿到金牌\n",
    "\n",
    "\n"
   ]
  },
  {
   "cell_type": "code",
   "execution_count": null,
   "metadata": {},
   "outputs": [],
   "source": []
  }
 ],
 "metadata": {
  "kernelspec": {
   "display_name": "Python 3",
   "language": "python",
   "name": "python3"
  },
  "language_info": {
   "codemirror_mode": {
    "name": "ipython",
    "version": 3
   },
   "file_extension": ".py",
   "mimetype": "text/x-python",
   "name": "python",
   "nbconvert_exporter": "python",
   "pygments_lexer": "ipython3",
   "version": "3.7.4"
  }
 },
 "nbformat": 4,
 "nbformat_minor": 2
}
