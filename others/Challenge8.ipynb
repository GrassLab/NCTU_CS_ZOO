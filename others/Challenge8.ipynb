{
 "cells": [
  {
   "cell_type": "markdown",
   "metadata": {
    "slideshow": {
     "slide_type": "slide"
    }
   },
   "source": [
    "# Challenge 8: 自駕車接收命令與指揮 (計算理論 / 系統軟體)\n",
    "\n",
    "2020.11.27"
   ]
  },
  {
   "cell_type": "markdown",
   "metadata": {
    "slideshow": {
     "slide_type": "slide"
    }
   },
   "source": [
    "## Objective\n",
    "\n",
    "- Learn language grammar to create own language which handled by specific application\n",
    "- Understand regular language and context free language\n",
    "- Learn useful command-line skill to leverage various system software\n",
    "- Understand how application leverage system software"
   ]
  },
  {
   "cell_type": "markdown",
   "metadata": {
    "slideshow": {
     "slide_type": "slide"
    }
   },
   "source": [
    "## Requirement\n",
    "\n",
    "實作出小鴨車語 `DuckieDuckie2` 直譯器，並可利用環境變數調整速度與角速度\n",
    "\n",
    "- 小鴨車語 `DuckieDuckie2`\n",
    "    - 支援多句 `DuckieDuckie1` 命令 (表達式)\n",
    "    - 新增迴圈\n",
    "- 利用環境變數 environment variable 去調整 `前進` `後退` `右轉` `左轉` 時的速度與角速度\n",
    "    - 方便在不修改程式碼的情況下，改變與設定程式的行為\n",
    "\n",
    "> `DuckieDuckie2` 的語法及語義在 [Reference](#Reference)\n"
   ]
  },
  {
   "cell_type": "markdown",
   "metadata": {
    "slideshow": {
     "slide_type": "slide"
    }
   },
   "source": [
    "## 小鴨車語 `DuckieDuckie2`\n",
    "\n",
    "整個檔案可能是下列兩種格式\n",
    "\n",
    "- 格式1. 無迴圈\n",
    "\n",
    "具有多個 `DuckieDuckie1` 命令 (表達式)，依照順序執行  \n",
    "每一句 `DuckieDuckie1` 命令還是遵循原本的格式與意義\n",
    "\n",
    "- 格式2. 有迴圈\n",
    "\n",
    "以 `loop` 開頭作為關鍵字，只會出現在檔案開頭，前面不會有其它字元  \n",
    "`loop` 後面隔一個空白接著至少一位的數字，代表該迴圈需要被重複執行幾次  \n",
    "數字後面隔著一個空白接著 `{`，在 `{` 後可以有任意個空白與換行 `\\n`  \n",
    "接著是多個 `DuckieDuckie1` 命令 (表達式)，這些是重複執行的部分  \n",
    "在最後會有 `}` 將整個迴圈區間關閉  \n",
    "在 `}` 後面可以有任意個空白或換行 `\\n`\n"
   ]
  },
  {
   "cell_type": "markdown",
   "metadata": {
    "slideshow": {
     "slide_type": "subslide"
    }
   },
   "source": [
    "## Test Example\n",
    "\n",
    "小鴨車語 `DuckieDuckie2` 的使用範例與行為\n",
    "\n",
    "有一個檔案 `main.duckie`\n",
    "```\n",
    "forward 1500ms;\n",
    "right 1s;\n",
    "```\n",
    "\n",
    "透過命令列 `python duckieduckie2.py < main.duckie` 使用輸入重定向\n",
    "\n",
    "預期會看到小鴨車的行為是：\n",
    "\n",
    "```\n",
    "前進 1500 毫秒，右轉 1 秒，最後停止\n",
    "```\n",
    "\n",
    "更多範例請參考下面\n"
   ]
  },
  {
   "cell_type": "markdown",
   "metadata": {
    "slideshow": {
     "slide_type": "subslide"
    }
   },
   "source": [
    "### Example 1: 前進 1 秒，右轉 1 秒，重複 4 次\n",
    "\n",
    "檔案 `example1.duckie`\n",
    "```\n",
    "loop 4 {\n",
    "    forward 1s;\n",
    "    right 1s;\n",
    "}\n",
    "```\n",
    "連入小鴨車，並使用  \n",
    "`python duckieduckie2.py < example1.duckie`  \n",
    "會看到小鴨車行為是：\n",
    "```\n",
    "前進 1 秒，右轉 1 秒，前進 1 秒，右轉 1 秒，前進 1 秒，右轉 1 秒，前進 1 秒，右轉 1 秒，最後停止\n",
    "```\n"
   ]
  },
  {
   "cell_type": "markdown",
   "metadata": {
    "slideshow": {
     "slide_type": "subslide"
    }
   },
   "source": [
    "### Example 2: 迴圈語法錯誤\n",
    "\n",
    "檔案 `example2.duckie`\n",
    "```\n",
    "loop 2 \n",
    "    backward 500ms;\n",
    "    right 1s;\n",
    "}\n",
    "\n",
    "```\n",
    "連入小鴨車，並使用  \n",
    "`python duckieduckie2.py < example2.duckie`  \n",
    "會看到小鴨車行為是：\n",
    "```\n",
    "停止\n",
    "```\n",
    "\n",
    "因為**語法是錯的，應該提示使用者語法有誤**，提示有錯誤即可，不需給出是什麼錯誤  \n",
    "錯誤的地方在於代表迴圈次數的數字要隔一個空白接著 `{`\n"
   ]
  },
  {
   "cell_type": "markdown",
   "metadata": {
    "slideshow": {
     "slide_type": "subslide"
    }
   },
   "source": [
    "### Example 3: 迴圈語法錯誤\n",
    "\n",
    "檔案 `example3.duckie`\n",
    "```\n",
    "loop 2 {\n",
    "    loop 4 {\n",
    "        forward 1s;\n",
    "        left 1s;\n",
    "    }\n",
    "    right 2s;\n",
    "}\n",
    "\n",
    "```\n",
    "連入小鴨車，並使用  \n",
    "`python duckieduckie2.py < example3.duckie`  \n",
    "會看到小鴨車行為是：\n",
    "```\n",
    "停止\n",
    "```\n",
    "\n",
    "因為**語法是錯的，應該提示使用者語法有誤**，提示有錯誤即可，不需給出是什麼錯誤  \n",
    "錯誤的地方在於迴圈的 `{` 與 `}` 內只能是多個 `DuckieDuckie1` 命令 (表達式)\n"
   ]
  },
  {
   "cell_type": "markdown",
   "metadata": {
    "slideshow": {
     "slide_type": "subslide"
    }
   },
   "source": [
    "### Example 4: 語法錯誤 \n",
    "\n",
    "檔案 `example4.duckie`\n",
    "```\n",
    "loop 4 {\n",
    "    forward 1s;\n",
    "    left 1s;\n",
    "}\n",
    "right 2s;\n",
    "```\n",
    "連入小鴨車，並使用  \n",
    "`python duckieduckie2.py < example4.duckie`  \n",
    "會看到小鴨車行為是：\n",
    "```\n",
    "停止\n",
    "```\n",
    "\n",
    "因為**語法是錯的，應該提示使用者語法有誤**，提示有錯誤即可，不需給出是什麼錯誤  \n",
    "錯誤的地方在於 `}` 後只能是任意個空白或換行 `\\n`，而不是另一個 `DuckieDuckie1` 命令\n"
   ]
  },
  {
   "cell_type": "markdown",
   "metadata": {
    "slideshow": {
     "slide_type": "subslide"
    }
   },
   "source": [
    "### Example 5: 語法錯誤 \n",
    "\n",
    "檔案 `example5.duckie`\n",
    "```\n",
    "forward 1s;\n",
    "left 2s\n",
    "```\n",
    "連入小鴨車，並使用  \n",
    "`python duckieduckie2.py < example5.duckie`  \n",
    "會看到小鴨車行為是：\n",
    "```\n",
    "停止\n",
    "```\n",
    "\n",
    "因為**語法是錯的，應該提示使用者語法有誤**，提示有錯誤即可，不需給出是什麼錯誤  \n",
    "第二個 `DuckieDuckie1` 缺了分號 `;`，如果已經執行了 `forward 1s;` 是可以接受的\n"
   ]
  },
  {
   "cell_type": "markdown",
   "metadata": {
    "slideshow": {
     "slide_type": "slide"
    }
   },
   "source": [
    "## 環境變數 environment variable\n",
    "\n",
    "跑在作業系統內的程式，可以取得的外部環境變數，型態為字串 `str`\n",
    "\n",
    "例如：可以有一個變數叫做 `DUCKIE_VELOCITY`，可以設定前進後退的速度"
   ]
  },
  {
   "cell_type": "code",
   "execution_count": 1,
   "metadata": {
    "slideshow": {
     "slide_type": "fragment"
    }
   },
   "outputs": [
    {
     "name": "stdout",
     "output_type": "stream",
     "text": [
      "Overwriting show_env.py\n"
     ]
    }
   ],
   "source": [
    "%%writefile show_env.py\n",
    "import os\n",
    "print(os.getenv(\"DUCKIE_VELOCITY\"))"
   ]
  },
  {
   "cell_type": "markdown",
   "metadata": {
    "slideshow": {
     "slide_type": "fragment"
    }
   },
   "source": [
    "接下來可以嘗試執行 `show_env.py` 其內容是上面的範例程式"
   ]
  },
  {
   "cell_type": "code",
   "execution_count": 2,
   "metadata": {
    "slideshow": {
     "slide_type": "fragment"
    }
   },
   "outputs": [
    {
     "name": "stdout",
     "output_type": "stream",
     "text": [
      "None\n",
      "0.3\n"
     ]
    }
   ],
   "source": [
    "! python show_env.py\n",
    "! DUCKIE_VELOCITY=0.3 python show_env.py"
   ]
  },
  {
   "cell_type": "markdown",
   "metadata": {
    "slideshow": {
     "slide_type": "subslide"
    }
   },
   "source": [
    "### 環境變數的賦值\n",
    "\n",
    "如果想在 `windows` 去設定環境變數\n",
    "\n",
    "是 `powershell`請用\n",
    "```\n",
    "$env:DUCKIE_VELOCITY=0.3\n",
    "python show_env.py\n",
    "```\n",
    "\n",
    "是 `cmd` 請用\n",
    "```\n",
    "set DUCKIE_VELOCITY=0.3\n",
    "python show_env.py\n",
    "```\n",
    "\n",
    "> 如果想合併成一行執行，在中間加上 `&`\n",
    "\n",
    "如果想在 `mac` 或 `linux` 等 unix-like 去設定環境變數\n",
    "\n",
    "```\n",
    "$ DUCKIE_VELOCITY=0.3 python show_env.py\n",
    "```\n",
    "\n",
    "或想要一次設定多個環境變數\n",
    "\n",
    "```\n",
    "$ DUCKIE_VELOCITY=0.3 DUCKIE_OMEGA=0.2 python show_env.py\n",
    "```\n",
    "\n",
    "或是\n",
    "\n",
    "```\n",
    "$ export DUCKIE_VELOCITY=0.3\n",
    "$ python show_env.py\n",
    "```\n",
    "\n"
   ]
  },
  {
   "cell_type": "markdown",
   "metadata": {
    "slideshow": {
     "slide_type": "subslide"
    }
   },
   "source": [
    "### 環境變數使用的範例"
   ]
  },
  {
   "cell_type": "code",
   "execution_count": null,
   "metadata": {},
   "outputs": [],
   "source": [
    "import os\n",
    "\n",
    "from lib.car_control import CarControl\n",
    "    \n",
    "car = CarControl(0.0)\n",
    "    \n",
    "cmd = \"forward\"\n",
    "\n",
    "# no one set this environment variable, use default value\n",
    "if os.getenv(\"DUCKIE_VELOCITY\") is None:\n",
    "    velocity = 0.3\n",
    "else:\n",
    "    # get setting value from environment variable\n",
    "    velocity = float(os.getenv(\"DUCKIE_VELOCITY\"))\n",
    "\n",
    "# no one set this environment variable, use default value\n",
    "if os.getenv(\"DUCKIE_OMEGA\") is None:\n",
    "    omega = 4\n",
    "else:\n",
    "    # get setting value from environment variable\n",
    "    omega = float(os.getenv(\"DUCKIE_OMEGA\"))\n",
    "\n",
    "if cmd == \"forward\":\n",
    "    car.move(velocity=velocity, omega=0)\n",
    "elif cmd == \"backward\":\n",
    "    car.move(velocity=-velocity, omega=0)\n",
    "elif cmd == \"left\":\n",
    "    car.move(velocity=0, omega=omega)\n",
    "elif cmd == \"right\":\n",
    "    car.move(velocity=0, omega=-omega)"
   ]
  },
  {
   "cell_type": "markdown",
   "metadata": {
    "slideshow": {
     "slide_type": "slide"
    }
   },
   "source": [
    "## Demo\n",
    "\n",
    "用小鴨車走出特定圖形，不用到非常精準，也沒有需要一次成功  \n",
    "但會需要去利用 環境變數 去微調速度與角速度\n",
    "\n",
    "同時，還會測試幾個語法會錯誤的例子\n"
   ]
  },
  {
   "cell_type": "markdown",
   "metadata": {
    "slideshow": {
     "slide_type": "slide"
    }
   },
   "source": [
    "## Notice\n",
    "\n",
    "- 因需要使用到 `duckiebot_cs_zoo/libs` 目錄下的函式庫，請將程式碼放置於 `duckiebot_cs_zoo` 目錄下\n",
    "- 有任何問題，歡迎發問"
   ]
  },
  {
   "cell_type": "markdown",
   "metadata": {
    "slideshow": {
     "slide_type": "slide"
    }
   },
   "source": [
    "## Reference\n",
    "\n",
    "- [Environment variable wiki](https://en.wikipedia.org/wiki/Environment_variable)"
   ]
  },
  {
   "cell_type": "markdown",
   "metadata": {
    "slideshow": {
     "slide_type": "subslide"
    }
   },
   "source": [
    "## 小鴨車語 `DuckieDuckie2`\n",
    "\n",
    "### 語法 Grammar\n",
    "\n",
    "小鴨車語 `DuckieDuckie2` 的上下文語法定義為\n",
    "\n",
    "$$\n",
    "\\begin{align}\n",
    "G = \\{ \\sum, N, S, P \\} \\\\\n",
    "G \\space \\text{is grammar} \\\\\n",
    "\\sum \\space \\text{is alphabet and terminal symbol} \\\\\n",
    "N \\space \\text{is nonterminal symbol} \\\\\n",
    "S \\space \\text{is start symbol} \\\\\n",
    "P \\space \\text{is production rules}\n",
    "\\end{align}\n",
    "$$\n",
    "\n",
    "- `alphabet` 字母集為 `a-z`, `0-9`, `;`, 換行 `\\n` 與 空白 ` ` ，亦指 `terminal symbol` 終端符號\n",
    "- `nonterminal symbol` 非終端符號有 `CMD`, `DIGIT`, `SCALAR`, `UNIT`, `TRIM`, `LOOP`, `DUCKIEDUCKIE1`, `DUCKIEDUCKIE2`\n",
    "- `start symbol` 開始符號為 `DUCKIEDUCKIE2`\n",
    "- `production rules` 產生規則較為複雜，其中使用到幾個符號\n",
    "  - 使用三個正則運算：\n",
    "    - 用 $\\cup$ 表示 Union 聯集\n",
    "    - 用 $\\cdot$ 表示 Concatenate 連接\n",
    "    - 用 $*$ 表示 Kleene Star 星號  \n",
    "  - 使用單引號 $\\text{'}$ 表達字母集中的終端符號  \n",
    "  - 沒有單引號也非正則運算表達非終端符號\n",
    "\n",
    "$$\n",
    "\\begin{align}\n",
    "\\text{CMD} &\\to \\text{'forward'} \\cup \\text{'backward'} \\cup \\text{'left'} \\cup \\text{'right'} & \\\\\n",
    "\\text{DIGIT} &\\to \\text{'0'} \\cup \\text{'1'} \\\n",
    "\\cup \\text{'2'} \\cup \\text{'3'} \\cup \\text{'4'} \\cup \\text{'5'} \\\n",
    "\\cup \\text{'6'} \\cup \\text{'7'} \\cup \\text{'8'} \\cup \\text{'9'} & \\\\\n",
    "\\text{SCALAR} &\\to \\text{DIGIT} \\cdot \\text{DIGIT}^* & \\\\\n",
    "\\text{UNIT} &\\to \\text{'ms'} \\cup \\text{'s'} & \\\\\n",
    "\\text{TRIM} &\\to \\text{' '} \\cup \\text{'\\\\n'} & \\\\\n",
    "\\text{LOOP} &\\to \\text{'loop'} & \\\\\n",
    "\\\\\n",
    "\\text{DUCKIEDUCKIE1} &\\to \\text{CMD} \\cdot \\text{' '} \\cdot \\text{' '}^* \\cdot \\text{SCALAR} \\cdot \\text{UNIT} \\cdot \\text{';'} \\cdot \\text{TRIM}^* & \\\\\n",
    "\\text{DUCKIEDUCKIE2} &\\to \\text{DUCKIEDUCKIE1}^* \\cup \\text{LOOP} \\cdot \\text{' '} \\cdot \\text{SCALAR} \\cdot \\text{' '} \\cdot \\text{'\\{'} \\cdot \\text{TRIM}^* \\cdot \\text{DUCKIEDUCKIE1}^* \\cdot \\text{'\\}'} \\cdot \\text{TRIM}^*\n",
    "\\end{align}\n",
    "$$\n"
   ]
  },
  {
   "cell_type": "markdown",
   "metadata": {
    "slideshow": {
     "slide_type": "subslide"
    }
   },
   "source": [
    "### 語義 Semantics\n",
    "\n",
    "`DuckieDuckie1` 的非終端符號會被分成四個字串，分別是 `CMD`、`SCALAR`、`UNIT` 與 `TRIM`\n",
    "\n",
    "- `CMD` 對應到小鴨車應該要有的行為\n",
    "  - 目前 `DuckieDuckie1` 有四種行為\n",
    "    - `forward` 前進\n",
    "    - `backward` 後退\n",
    "    - `left` 左轉\n",
    "    - `right` 右轉\n",
    "- `SCALAR` 對應到 `CMD` 行為持續時間的多寡，與 `UNIT` 配合表示不同量級的參數\n",
    "- `UNIT` 對應到 `SCALAR` 的單位\n",
    "- `TRIM` 在語義上沒有意義，應該忽略\n",
    "\n",
    "其對應語義為：控制小鴨車進行 `CMD` 行為，持續時間為 `SCALAR`，時間單位為 `UNIT`\n",
    "\n",
    "舉例而言，當 `CMD='forward', SCALAR='1', UNIT='s'`  \n",
    "對應語義即為，小鴨車前進一秒\n",
    "\n",
    "`DuckieDuckie2` 有兩種情況\n",
    "\n",
    "- 情況1: 多個 `DuckieDuckie1`\n",
    "  - 按照順序，等前一個 `DuckieDuckie1` 的語義結束後，處理下一個\n",
    "\n",
    "舉例而言，當遇到 `CMD='forward', SCALAR='1', UNIT='s'` 接著 `CMD='backward', SCALAR='1', UNIT='s'`\n",
    "對應語義即為，小鴨車前進一秒，接著後退一秒\n",
    "\n",
    "- 情況2: \b遇到 `LOOP` 迴圈\n",
    "  - 後面接著的 `SCALAR` 代表該迴圈要重複幾次\n",
    "  - 重複的部分為被 `{` 與 `}` 包圍起來的部分\n",
    "\n",
    "舉例而言，當遇到 `SCALAR=2`，且 `{` `}` 包圍的部分是  `CMD='forward', SCALAR='1', UNIT='s'` 接著 `CMD='right', SCALAR='1', UNIT='s'`  \n",
    "對應語義即為，小鴨車前進一秒，接著右轉一秒，再前進一秒，最後右轉一秒\n"
   ]
  }
 ],
 "metadata": {
  "celltoolbar": "Slideshow",
  "kernelspec": {
   "display_name": "Python 3",
   "language": "python",
   "name": "python3"
  },
  "language_info": {
   "codemirror_mode": {
    "name": "ipython",
    "version": 3
   },
   "file_extension": ".py",
   "mimetype": "text/x-python",
   "name": "python",
   "nbconvert_exporter": "python",
   "pygments_lexer": "ipython3",
   "version": "3.7.6"
  },
  "rise": {
   "enable_chalkboard": true,
   "scroll": true,
   "theme": "night"
  }
 },
 "nbformat": 4,
 "nbformat_minor": 4
}
