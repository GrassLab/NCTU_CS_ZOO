{
 "cells": [
  {
   "cell_type": "markdown",
   "metadata": {
    "slideshow": {
     "slide_type": "slide"
    }
   },
   "source": [
    "# Challenge 8: 自駕車接收命令與指揮 (計算理論 / 系統軟體)\n",
    "\n",
    "2020.11.27"
   ]
  },
  {
   "cell_type": "markdown",
   "metadata": {
    "slideshow": {
     "slide_type": "slide"
    }
   },
   "source": [
    "## Objective\n",
    "\n",
    "- Learn language grammar to create own language which handled by specific application\n",
    "- Understand regular language and context free language\n",
    "- Learn useful command-line skill to leverage various system software\n",
    "- Understand how application leverage system software"
   ]
  },
  {
   "source": [
    "> TODO: language capability circle graph"
   ],
   "cell_type": "markdown",
   "metadata": {}
  },
  {
   "source": [
    "## Requirement\n",
    "\n",
    "實作出小鴨車語 `DuckieDuckie2` 直譯器，可利用環境變數調整速度與角速度，且可從網路取得程式碼\n",
    "\n",
    "- 小鴨車語 `DuckieDuckie2`\n",
    "    - 從 regular language 的 `DuckieDuckie1` 進展到 context free language 的 `DuckieDuckie2`\n",
    "    - 新增迴圈\n",
    "- 利用環境變數去調整 `前進` `後退` `右轉` `左轉` 時的速度與角速度\n",
    "    - 方便在不修改程式碼的情況下，改變與設定程式的行為\n",
    "- 從網路取得程式碼\n",
    "    - 安裝與使用 `nc` 工具\n",
    "    - 先使用 `nc` 透過 `TCP` 取得程式碼並將輸出重定向到檔案\n",
    "    - 在透過輸入重定向將程式碼檔案餵給 `DuckieDuckie2` 直譯器\n"
   ],
   "cell_type": "markdown",
   "metadata": {}
  },
  {
   "cell_type": "markdown",
   "metadata": {
    "slideshow": {
     "slide_type": "subslide"
    }
   },
   "source": [
    "### 小鴨車語 `DuckieDuckie2`\n",
    "\n",
    "#### 語法 Grammar\n",
    "\n",
    "小鴨車語 `DuckieDuckie2` 的上下文語法定義為\n",
    "\n",
    "$$\n",
    "\\begin{align}\n",
    "G = \\{ \\sum, N, S, P \\} \\\\\n",
    "G \\space \\text{is grammar} \\\\\n",
    "\\sum \\space \\text{is alphabet and terminal symbol} \\\\\n",
    "N \\space \\text{is nonterminal symbol} \\\\\n",
    "S \\space \\text{is start symbol} \\\\\n",
    "P \\space \\text{is production rules}\n",
    "\\end{align}\n",
    "$$\n",
    "\n",
    "- `alphabet` 字母集為 `a-z`, `0-9`, `;`, 換行 `\\n` 與 空白 ` ` ，亦指 `terminal symbol` 終端符號\n",
    "- `nonterminal symbol` 非終端符號有 `CMD`, `DIGIT`, `SCALAR`, `UNIT`, `TRIM`, `LOOP`, `DUCKIEDUCKIE1`, `DUCKIEDUCKIE2`\n",
    "- `start symbol` 開始符號為 `DUCKIEDUCKIE2`\n",
    "- `production rules` 產生規則較為複雜，其中使用到幾個符號\n",
    "  - 使用三個正則運算：\n",
    "    - 用 $\\cup$ 表示 Union 聯集\n",
    "    - 用 $\\cdot$ 表示 Concatenate 連接\n",
    "    - 用 $*$ 表示 Kleene Star 星號  \n",
    "  - 使用單引號 $\\text{'}$ 表達字母集中的終端符號  \n",
    "  - 沒有單引號也非正則運算表達非終端符號\n",
    "\n",
    "$$\n",
    "\\begin{align}\n",
    "\\text{CMD} &\\to \\text{'forward'} \\cup \\text{'backward'} \\cup \\text{'left'} \\cup \\text{'right'} & \\\\\n",
    "\\text{DIGIT} &\\to \\text{'0'} \\cup \\text{'1'} \\\n",
    "\\cup \\text{'2'} \\cup \\text{'3'} \\cup \\text{'4'} \\cup \\text{'5'} \\\n",
    "\\cup \\text{'6'} \\cup \\text{'7'} \\cup \\text{'8'} \\cup \\text{'9'} & \\\\\n",
    "\\text{SCALAR} &\\to \\text{DIGIT} \\cdot \\text{DIGIT}^* & \\\\\n",
    "\\text{UNIT} &\\to \\text{'ms'} \\cup \\text{'s'} & \\\\\n",
    "\\text{TRIM} &\\to \\text{' '} \\cup \\text{'\\\\n'} & \\\\\n",
    "\\text{LOOP} &\\to \\text{'loop'} & \\\\\n",
    "\\\\\n",
    "\\text{DUCKIEDUCKIE1} &\\to \\text{CMD} \\cdot \\text{' '} \\cdot \\text{' '}^* \\cdot \\text{SCALAR} \\cdot \\text{UNIT} \\cdot \\text{';'} \\cdot \\text{TRIM}^* & \\\\\n",
    "\\text{DUCKIEDUCKIE2} &\\to \\text{DUCKIEDUCKIE1}^* \\cup \\text{LOOP} \\cdot \\text{' '} \\cdot \\text{SCALAR} \\cdot \\text{' '} \\cdot \\text{'\\{'} \\cdot \\text{TRIM}^* \\cdot \\text{DUCKIEDUCKIE2} \\cdot \\text{DUCKIEDUCKIE2} \\cdot \\text{'\\}'} \\cdot \\text{TRIM}^*\n",
    "\\end{align}\n",
    "$$\n"
   ]
  },
  {
   "cell_type": "markdown",
   "metadata": {
    "slideshow": {
     "slide_type": "subslide"
    }
   },
   "source": [
    "#### 語義 Semantics\n",
    "\n",
    "`DuckieDuckie1` 的非終端符號會被分成四個字串，分別是 `CMD`、`SCALAR`、`UNIT` 與 `TRIM`\n",
    "\n",
    "- `CMD` 對應到小鴨車應該要有的行為\n",
    "  - 目前 `DuckieDuckie1` 有四種行為\n",
    "    - `forward` 前進\n",
    "    - `backward` 後退\n",
    "    - `left` 左轉\n",
    "    - `right` 右轉\n",
    "- `SCALAR` 對應到 `CMD` 行為持續時間的多寡，與 `UNIT` 配合表示不同量級的參數\n",
    "- `UNIT` 對應到 `SCALAR` 的單位\n",
    "- `TRIM` 在語義上沒有意義，應該忽略\n",
    "\n",
    "其對應語義為：控制小鴨車進行 `CMD` 行為，持續時間為 `SCALAR`，時間單位為 `UNIT`\n",
    "\n",
    "舉例而言，當 `CMD='forward', SCALAR='1', UNIT='s'`  \n",
    "對應語義即為，小鴨車前進一秒\n",
    "\n",
    "`DuckieDuckie2` 有兩種情況\n",
    "\n",
    "1. 多個 `DuckieDuckie1`\n",
    "  - 按照順序，等前一個 `DuckieDuckie1` 的語義結束後，處理下一個\n",
    "\n",
    "舉例而言，當遇到 `CMD='forward', SCALAR='1', UNIT='s'` 接著 `CMD='backward', SCALAR='1', UNIT='s'`\n",
    "對應語義即為，小鴨車前進一秒，接著後退一秒\n",
    "\n",
    "2. \b遇到 `LOOP` 迴圈\n",
    "  - 後面接著的 `SCALAR` 代表該迴圈要重複幾次\n",
    "  - 重複的部分為被 `{` 與 `}` 包圍起來的部分\n",
    "\n",
    "舉例而言，當遇到 `SCALAR=2`，且 `{` `}` 包圍的部分是  `CMD='forward', SCALAR='1', UNIT='s'` 接著 `CMD='right', SCALAR='1', UNIT='s'`\n",
    "對應語義即為，小鴨車前進一秒，接著右轉一秒，再前進一秒，最後右轉一秒"
   ]
  },
  {
   "cell_type": "markdown",
   "metadata": {
    "slideshow": {
     "slide_type": "subslide"
    }
   },
   "source": [
    "## Test Example\n",
    "\n",
    "小鴨車語 `DuckieDuckie2` 的使用範例與行為\n",
    "\n",
    "有一個檔案 `main.duckie`\n",
    "```\n",
    "forward 1500ms;\n",
    "right 1s;\n",
    "```\n",
    "\n",
    "透過命令列 `python duckieduckie2.py < main.duckie` 使用輸入重定向\n",
    "> 但在小鴨車環境上的話，已經是 `bash` 所以可以直接使用輸入重定向\n",
    "\n",
    "預期會看到小鴨車的行為是：\n",
    "\n",
    "```\n",
    "前進 1500 毫秒，右轉 1 秒，最後停止\n",
    "```\n"
   ]
  },
  {
   "cell_type": "markdown",
   "metadata": {
    "slideshow": {
     "slide_type": "subslide"
    }
   },
   "source": [
    "### Example 1: 左轉 3 秒，重複 2 次\n",
    "\n",
    "檔案 `example1.duckie`\n",
    "```\n",
    "loop 2 {\n",
    "    left 3s;\n",
    "}\n",
    "```\n",
    "連入小鴨車，並使用  \n",
    "`python duckieduckie2.py < example1.duckie`  \n",
    "會看到小鴨車行為是：\n",
    "```\n",
    "左轉 3 秒，再左轉 3 秒，然後停止\n",
    "```"
   ]
  },
  {
   "cell_type": "markdown",
   "metadata": {
    "slideshow": {
     "slide_type": "subslide"
    }
   },
   "source": [
    "### Example 2: 前進 1 秒，右轉 1 秒，重複 4 次\n",
    "\n",
    "檔案 `example2.duckie`\n",
    "```\n",
    "loop 4 {\n",
    "    forward 1s;\n",
    "    right 1s;\n",
    "}\n",
    "```\n",
    "連入小鴨車，並使用  \n",
    "`python duckieduckie2.py < example2.duckie`  \n",
    "會看到小鴨車行為是：\n",
    "```\n",
    "前進 1 秒，右轉 1 秒，前進 1 秒，右轉 1 秒，前進 1 秒，右轉 1 秒，前進 1 秒，右轉 1 秒，最後停止\n",
    "```\n"
   ]
  },
  {
   "cell_type": "markdown",
   "metadata": {
    "slideshow": {
     "slide_type": "subslide"
    }
   },
   "source": [
    "### Example 3: 巢狀迴圈\n",
    "\n",
    "檔案 `example3.duckie`\n",
    "```\n",
    "loop 2 {\n",
    "    loop 4 {\n",
    "        forward 1s;\n",
    "        left 1s;\n",
    "    }\n",
    "    right 2s;\n",
    "}\n",
    "\n",
    "```\n",
    "連入小鴨車，並使用  \n",
    "`python duckieduckie2.py < example3.duckie`  \n",
    "會看到小鴨車行為是：\n",
    "```\n",
    "前進 1 秒，左轉 1 秒，重複 4 次\n",
    "且上述行為重複 2 次\n",
    "```"
   ]
  },
  {
   "source": [
    "### Example 4: 語法錯誤 \n",
    "\n",
    "檔案 `example3.duckie`\n",
    "```\n",
    "loop 4 {\n",
    "    forward 1s;\n",
    "    left 1s;\n",
    "}\n",
    "right 2s;\n",
    "```\n",
    "連入小鴨車，並使用  \n",
    "`python duckieduckie2.py < example4.duckie`  \n",
    "會看到小鴨車行為是：\n",
    "```\n",
    "停止\n",
    "```\n",
    "\n",
    "因為**語法是錯的，應該提示使用者語法有誤**"
   ],
   "cell_type": "markdown",
   "metadata": {}
  },
  {
   "cell_type": "markdown",
   "metadata": {
    "slideshow": {
     "slide_type": "slide"
    }
   },
   "source": [
    "## Notice\n",
    "\n",
    "- 因需要使用到 `duckiebot_cs_zoo/libs` 目錄下的函式庫，請將程式碼放置於 `duckiebot_cs_zoo` 目錄下\n",
    "- 有任何問題，歡迎發問"
   ]
  }
 ],
 "metadata": {
  "celltoolbar": "Slideshow",
  "kernelspec": {
   "display_name": "Python 3",
   "language": "python",
   "name": "python3"
  },
  "language_info": {
   "codemirror_mode": {
    "name": "ipython",
    "version": 3
   },
   "file_extension": ".py",
   "mimetype": "text/x-python",
   "name": "python",
   "nbconvert_exporter": "python",
   "pygments_lexer": "ipython3",
   "version": "3.7.6"
  },
  "rise": {
   "enable_chalkboard": true,
   "scroll": true,
   "theme": "night"
  }
 },
 "nbformat": 4,
 "nbformat_minor": 4
}